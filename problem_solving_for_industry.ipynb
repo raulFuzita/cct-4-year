{
  "nbformat": 4,
  "nbformat_minor": 0,
  "metadata": {
    "colab": {
      "name": "problem_solving_for_industry.ipynb",
      "provenance": [],
      "collapsed_sections": [],
      "include_colab_link": true
    },
    "kernelspec": {
      "name": "python3",
      "display_name": "Python 3"
    },
    "language_info": {
      "name": "python"
    }
  },
  "cells": [
    {
      "cell_type": "markdown",
      "metadata": {
        "id": "view-in-github",
        "colab_type": "text"
      },
      "source": [
        "<a href=\"https://colab.research.google.com/github/raulFuzita/cct-4-year/blob/psi-final-project/problem_solving_for_industry.ipynb\" target=\"_parent\"><img src=\"https://colab.research.google.com/assets/colab-badge.svg\" alt=\"Open In Colab\"/></a>"
      ]
    },
    {
      "cell_type": "markdown",
      "source": [
        "# Problem Solving for Industry"
      ],
      "metadata": {
        "id": "czVmEVB5aVwc"
      }
    },
    {
      "cell_type": "markdown",
      "source": [
        "Lecturer: Dr. Muhammad Iqbal\n",
        "\n",
        "Students Information\n",
        "\n",
        "David Silva - 2018264\n",
        "\n",
        "Luiz Augusto Dias - 2018429\n",
        "\n",
        "Raul Macedo Fuzita - 2018337"
      ],
      "metadata": {
        "id": "4US-PG0QaZ10"
      }
    },
    {
      "cell_type": "markdown",
      "source": [
        "# Exploratory Data Analysis (EDA)"
      ],
      "metadata": {
        "id": "AWSkMGIFHkGP"
      }
    },
    {
      "cell_type": "code",
      "execution_count": 155,
      "metadata": {
        "id": "QtGfk7xVaCtK"
      },
      "outputs": [],
      "source": [
        "import pandas as pd\n",
        "import numpy as np\n",
        "import datetime as dt\n",
        "import matplotlib.pyplot as plt\n",
        "import seaborn as sns\n",
        "from sklearn.preprocessing import LabelEncoder\n",
        "from sklearn.preprocessing import MinMaxScaler"
      ]
    },
    {
      "cell_type": "markdown",
      "source": [
        ""
      ],
      "metadata": {
        "id": "yXFXAQaZjjs1"
      }
    },
    {
      "cell_type": "code",
      "source": [
        "df = pd.read_csv('https://raw.githubusercontent.com/raulFuzita/cct-4-year/psi-final-project/data/daft_ie_v1_correct_coordinates.csv')"
      ],
      "metadata": {
        "id": "QNtngInr9PR2"
      },
      "execution_count": 156,
      "outputs": []
    },
    {
      "cell_type": "markdown",
      "source": [
        "The Daft dataset from 2021 to 2022 has 3967 records and 22 columns in the total."
      ],
      "metadata": {
        "id": "ar_syODIbrRo"
      }
    },
    {
      "cell_type": "code",
      "source": [
        "df.shape"
      ],
      "metadata": {
        "colab": {
          "base_uri": "https://localhost:8080/"
        },
        "id": "9e_6LRW19S3T",
        "outputId": "615bfccf-8422-4cfa-cb7c-06fc7d16b967"
      },
      "execution_count": 157,
      "outputs": [
        {
          "output_type": "execute_result",
          "data": {
            "text/plain": [
              "(3967, 24)"
            ]
          },
          "metadata": {},
          "execution_count": 157
        }
      ]
    },
    {
      "cell_type": "markdown",
      "source": [
        "See below the name of the columns. Some names are not quite clear what they are. We may consider renaming some of the columns to give more meaning to each attribute."
      ],
      "metadata": {
        "id": "NrWn2dPhb3yB"
      }
    },
    {
      "cell_type": "code",
      "source": [
        "df.columns"
      ],
      "metadata": {
        "colab": {
          "base_uri": "https://localhost:8080/"
        },
        "id": "LHAeu5hk9T6t",
        "outputId": "5f4f5638-a19e-43f0-91ea-c5763d314d93"
      },
      "execution_count": 158,
      "outputs": [
        {
          "output_type": "execute_result",
          "data": {
            "text/plain": [
              "Index(['CODE', 'ADDRESS', 'featuredLevel', 'publishDate', 'price',\n",
              "       'numBedrooms', 'numBathrooms', 'propertyType', 'propertySize',\n",
              "       'category', 'AMV_price', 'sellerId', 'seller_name', 'seller_branch',\n",
              "       'sellerType', 'm_totalImages', 'm_hasVideo', 'm_hasVirtualTour',\n",
              "       'm_hasBrochure', 'ber_rating', 'longitude', 'latitude', 'LONGITUDE',\n",
              "       'LATITUDE'],\n",
              "      dtype='object')"
            ]
          },
          "metadata": {},
          "execution_count": 158
        }
      ]
    },
    {
      "cell_type": "markdown",
      "source": [
        "The `info` method gives us a glimpse of what type each attribute is. By looking at the name and the type of some of the attributes we begin to see attributes that might not be useful for our analysis or to train the model later."
      ],
      "metadata": {
        "id": "E4Qt4VKrc2TH"
      }
    },
    {
      "cell_type": "code",
      "source": [
        "df.info()"
      ],
      "metadata": {
        "colab": {
          "base_uri": "https://localhost:8080/"
        },
        "id": "JjkPvU6_9VRr",
        "outputId": "478aea1d-990f-4e39-dc57-768c3c68f7bd"
      },
      "execution_count": 159,
      "outputs": [
        {
          "output_type": "stream",
          "name": "stdout",
          "text": [
            "<class 'pandas.core.frame.DataFrame'>\n",
            "RangeIndex: 3967 entries, 0 to 3966\n",
            "Data columns (total 24 columns):\n",
            " #   Column            Non-Null Count  Dtype  \n",
            "---  ------            --------------  -----  \n",
            " 0   CODE              3967 non-null   int64  \n",
            " 1   ADDRESS           3967 non-null   object \n",
            " 2   featuredLevel     3967 non-null   object \n",
            " 3   publishDate       3967 non-null   object \n",
            " 4   price             3967 non-null   int64  \n",
            " 5   numBedrooms       3967 non-null   int64  \n",
            " 6   numBathrooms      3967 non-null   int64  \n",
            " 7   propertyType      3967 non-null   object \n",
            " 8   propertySize      3612 non-null   float64\n",
            " 9   category          3967 non-null   object \n",
            " 10  AMV_price         3967 non-null   int64  \n",
            " 11  sellerId          3967 non-null   float64\n",
            " 12  seller_name       3967 non-null   object \n",
            " 13  seller_branch     3967 non-null   object \n",
            " 14  sellerType        3967 non-null   object \n",
            " 15  m_totalImages     3967 non-null   float64\n",
            " 16  m_hasVideo        3967 non-null   bool   \n",
            " 17  m_hasVirtualTour  3967 non-null   bool   \n",
            " 18  m_hasBrochure     3967 non-null   bool   \n",
            " 19  ber_rating        3967 non-null   object \n",
            " 20  longitude         3967 non-null   float64\n",
            " 21  latitude          3967 non-null   float64\n",
            " 22  LONGITUDE         3967 non-null   float64\n",
            " 23  LATITUDE          3967 non-null   float64\n",
            "dtypes: bool(3), float64(7), int64(5), object(9)\n",
            "memory usage: 662.6+ KB\n"
          ]
        }
      ]
    },
    {
      "cell_type": "markdown",
      "source": [
        "The `describe` method gives a quick overview of numerical attributes. The max value of bedrooms and bathrooms reveals a strange number of 23. It looks too high for a property if it is not a building, mansion, etc. Another interesting value is the min of longitude which is -100.445882. A quick search on the internet we learn that longitude will not be smaller than -5 degrees and higher than -11 (Data.gov.ie, 2022). The min for property size is 1m² which does not sound right.\n"
      ],
      "metadata": {
        "id": "yr2MlQQLfvxW"
      }
    },
    {
      "cell_type": "code",
      "source": [
        "df.describe()"
      ],
      "metadata": {
        "colab": {
          "base_uri": "https://localhost:8080/",
          "height": 364
        },
        "id": "0Ixw0Fkl9XK8",
        "outputId": "8b7b04db-20c8-484e-8128-376715b39fb4"
      },
      "execution_count": 160,
      "outputs": [
        {
          "output_type": "execute_result",
          "data": {
            "text/plain": [
              "               CODE         price  numBedrooms  numBathrooms  propertySize  \\\n",
              "count  3.967000e+03  3.967000e+03  3967.000000   3967.000000   3612.000000   \n",
              "mean   3.629047e+06  3.416734e+05     3.126292      2.077136    132.673865   \n",
              "std    2.502479e+05  2.703582e+05     1.230570      1.167772    295.246580   \n",
              "min    1.092100e+04  2.000000e+04     1.000000      1.000000      1.000000   \n",
              "25%    3.654066e+06  1.950000e+05     2.000000      1.000000     78.000000   \n",
              "50%    3.673795e+06  2.750000e+05     3.000000      2.000000    103.000000   \n",
              "75%    3.685990e+06  3.950000e+05     4.000000      3.000000    137.000000   \n",
              "max    3.695402e+06  4.500000e+06    23.000000     23.000000   8600.000000   \n",
              "\n",
              "         AMV_price      sellerId  m_totalImages    longitude     latitude  \\\n",
              "count  3967.000000  3.967000e+03    3967.000000  3967.000000  3967.000000   \n",
              "mean      0.047391  2.163815e+04      18.448954    -7.389964    53.133816   \n",
              "std       0.212500  2.541506e+05      10.537226     1.865587     0.716435   \n",
              "min       0.000000  7.000000e+00       0.000000  -100.445882    39.783730   \n",
              "25%       0.000000  2.178000e+03      12.000000    -8.426627    52.666116   \n",
              "50%       0.000000  3.255000e+03      17.000000    -7.050391    53.303346   \n",
              "75%       0.000000  8.806000e+03      23.000000    -6.298945    53.438722   \n",
              "max       1.000000  5.310328e+06     104.000000    -6.028016    55.299693   \n",
              "\n",
              "         LONGITUDE     LATITUDE  \n",
              "count  3967.000000  3967.000000  \n",
              "mean     -7.431045    53.099834  \n",
              "std       2.907545     1.424622  \n",
              "min    -117.669070     0.000000  \n",
              "25%      -8.432554    52.664233  \n",
              "50%      -7.040067    53.303102  \n",
              "75%      -6.303485    53.434679  \n",
              "max       0.000000    55.294928  "
            ],
            "text/html": [
              "\n",
              "  <div id=\"df-1d659ad9-4bac-41c9-891f-c909d2888fa5\">\n",
              "    <div class=\"colab-df-container\">\n",
              "      <div>\n",
              "<style scoped>\n",
              "    .dataframe tbody tr th:only-of-type {\n",
              "        vertical-align: middle;\n",
              "    }\n",
              "\n",
              "    .dataframe tbody tr th {\n",
              "        vertical-align: top;\n",
              "    }\n",
              "\n",
              "    .dataframe thead th {\n",
              "        text-align: right;\n",
              "    }\n",
              "</style>\n",
              "<table border=\"1\" class=\"dataframe\">\n",
              "  <thead>\n",
              "    <tr style=\"text-align: right;\">\n",
              "      <th></th>\n",
              "      <th>CODE</th>\n",
              "      <th>price</th>\n",
              "      <th>numBedrooms</th>\n",
              "      <th>numBathrooms</th>\n",
              "      <th>propertySize</th>\n",
              "      <th>AMV_price</th>\n",
              "      <th>sellerId</th>\n",
              "      <th>m_totalImages</th>\n",
              "      <th>longitude</th>\n",
              "      <th>latitude</th>\n",
              "      <th>LONGITUDE</th>\n",
              "      <th>LATITUDE</th>\n",
              "    </tr>\n",
              "  </thead>\n",
              "  <tbody>\n",
              "    <tr>\n",
              "      <th>count</th>\n",
              "      <td>3.967000e+03</td>\n",
              "      <td>3.967000e+03</td>\n",
              "      <td>3967.000000</td>\n",
              "      <td>3967.000000</td>\n",
              "      <td>3612.000000</td>\n",
              "      <td>3967.000000</td>\n",
              "      <td>3.967000e+03</td>\n",
              "      <td>3967.000000</td>\n",
              "      <td>3967.000000</td>\n",
              "      <td>3967.000000</td>\n",
              "      <td>3967.000000</td>\n",
              "      <td>3967.000000</td>\n",
              "    </tr>\n",
              "    <tr>\n",
              "      <th>mean</th>\n",
              "      <td>3.629047e+06</td>\n",
              "      <td>3.416734e+05</td>\n",
              "      <td>3.126292</td>\n",
              "      <td>2.077136</td>\n",
              "      <td>132.673865</td>\n",
              "      <td>0.047391</td>\n",
              "      <td>2.163815e+04</td>\n",
              "      <td>18.448954</td>\n",
              "      <td>-7.389964</td>\n",
              "      <td>53.133816</td>\n",
              "      <td>-7.431045</td>\n",
              "      <td>53.099834</td>\n",
              "    </tr>\n",
              "    <tr>\n",
              "      <th>std</th>\n",
              "      <td>2.502479e+05</td>\n",
              "      <td>2.703582e+05</td>\n",
              "      <td>1.230570</td>\n",
              "      <td>1.167772</td>\n",
              "      <td>295.246580</td>\n",
              "      <td>0.212500</td>\n",
              "      <td>2.541506e+05</td>\n",
              "      <td>10.537226</td>\n",
              "      <td>1.865587</td>\n",
              "      <td>0.716435</td>\n",
              "      <td>2.907545</td>\n",
              "      <td>1.424622</td>\n",
              "    </tr>\n",
              "    <tr>\n",
              "      <th>min</th>\n",
              "      <td>1.092100e+04</td>\n",
              "      <td>2.000000e+04</td>\n",
              "      <td>1.000000</td>\n",
              "      <td>1.000000</td>\n",
              "      <td>1.000000</td>\n",
              "      <td>0.000000</td>\n",
              "      <td>7.000000e+00</td>\n",
              "      <td>0.000000</td>\n",
              "      <td>-100.445882</td>\n",
              "      <td>39.783730</td>\n",
              "      <td>-117.669070</td>\n",
              "      <td>0.000000</td>\n",
              "    </tr>\n",
              "    <tr>\n",
              "      <th>25%</th>\n",
              "      <td>3.654066e+06</td>\n",
              "      <td>1.950000e+05</td>\n",
              "      <td>2.000000</td>\n",
              "      <td>1.000000</td>\n",
              "      <td>78.000000</td>\n",
              "      <td>0.000000</td>\n",
              "      <td>2.178000e+03</td>\n",
              "      <td>12.000000</td>\n",
              "      <td>-8.426627</td>\n",
              "      <td>52.666116</td>\n",
              "      <td>-8.432554</td>\n",
              "      <td>52.664233</td>\n",
              "    </tr>\n",
              "    <tr>\n",
              "      <th>50%</th>\n",
              "      <td>3.673795e+06</td>\n",
              "      <td>2.750000e+05</td>\n",
              "      <td>3.000000</td>\n",
              "      <td>2.000000</td>\n",
              "      <td>103.000000</td>\n",
              "      <td>0.000000</td>\n",
              "      <td>3.255000e+03</td>\n",
              "      <td>17.000000</td>\n",
              "      <td>-7.050391</td>\n",
              "      <td>53.303346</td>\n",
              "      <td>-7.040067</td>\n",
              "      <td>53.303102</td>\n",
              "    </tr>\n",
              "    <tr>\n",
              "      <th>75%</th>\n",
              "      <td>3.685990e+06</td>\n",
              "      <td>3.950000e+05</td>\n",
              "      <td>4.000000</td>\n",
              "      <td>3.000000</td>\n",
              "      <td>137.000000</td>\n",
              "      <td>0.000000</td>\n",
              "      <td>8.806000e+03</td>\n",
              "      <td>23.000000</td>\n",
              "      <td>-6.298945</td>\n",
              "      <td>53.438722</td>\n",
              "      <td>-6.303485</td>\n",
              "      <td>53.434679</td>\n",
              "    </tr>\n",
              "    <tr>\n",
              "      <th>max</th>\n",
              "      <td>3.695402e+06</td>\n",
              "      <td>4.500000e+06</td>\n",
              "      <td>23.000000</td>\n",
              "      <td>23.000000</td>\n",
              "      <td>8600.000000</td>\n",
              "      <td>1.000000</td>\n",
              "      <td>5.310328e+06</td>\n",
              "      <td>104.000000</td>\n",
              "      <td>-6.028016</td>\n",
              "      <td>55.299693</td>\n",
              "      <td>0.000000</td>\n",
              "      <td>55.294928</td>\n",
              "    </tr>\n",
              "  </tbody>\n",
              "</table>\n",
              "</div>\n",
              "      <button class=\"colab-df-convert\" onclick=\"convertToInteractive('df-1d659ad9-4bac-41c9-891f-c909d2888fa5')\"\n",
              "              title=\"Convert this dataframe to an interactive table.\"\n",
              "              style=\"display:none;\">\n",
              "        \n",
              "  <svg xmlns=\"http://www.w3.org/2000/svg\" height=\"24px\"viewBox=\"0 0 24 24\"\n",
              "       width=\"24px\">\n",
              "    <path d=\"M0 0h24v24H0V0z\" fill=\"none\"/>\n",
              "    <path d=\"M18.56 5.44l.94 2.06.94-2.06 2.06-.94-2.06-.94-.94-2.06-.94 2.06-2.06.94zm-11 1L8.5 8.5l.94-2.06 2.06-.94-2.06-.94L8.5 2.5l-.94 2.06-2.06.94zm10 10l.94 2.06.94-2.06 2.06-.94-2.06-.94-.94-2.06-.94 2.06-2.06.94z\"/><path d=\"M17.41 7.96l-1.37-1.37c-.4-.4-.92-.59-1.43-.59-.52 0-1.04.2-1.43.59L10.3 9.45l-7.72 7.72c-.78.78-.78 2.05 0 2.83L4 21.41c.39.39.9.59 1.41.59.51 0 1.02-.2 1.41-.59l7.78-7.78 2.81-2.81c.8-.78.8-2.07 0-2.86zM5.41 20L4 18.59l7.72-7.72 1.47 1.35L5.41 20z\"/>\n",
              "  </svg>\n",
              "      </button>\n",
              "      \n",
              "  <style>\n",
              "    .colab-df-container {\n",
              "      display:flex;\n",
              "      flex-wrap:wrap;\n",
              "      gap: 12px;\n",
              "    }\n",
              "\n",
              "    .colab-df-convert {\n",
              "      background-color: #E8F0FE;\n",
              "      border: none;\n",
              "      border-radius: 50%;\n",
              "      cursor: pointer;\n",
              "      display: none;\n",
              "      fill: #1967D2;\n",
              "      height: 32px;\n",
              "      padding: 0 0 0 0;\n",
              "      width: 32px;\n",
              "    }\n",
              "\n",
              "    .colab-df-convert:hover {\n",
              "      background-color: #E2EBFA;\n",
              "      box-shadow: 0px 1px 2px rgba(60, 64, 67, 0.3), 0px 1px 3px 1px rgba(60, 64, 67, 0.15);\n",
              "      fill: #174EA6;\n",
              "    }\n",
              "\n",
              "    [theme=dark] .colab-df-convert {\n",
              "      background-color: #3B4455;\n",
              "      fill: #D2E3FC;\n",
              "    }\n",
              "\n",
              "    [theme=dark] .colab-df-convert:hover {\n",
              "      background-color: #434B5C;\n",
              "      box-shadow: 0px 1px 3px 1px rgba(0, 0, 0, 0.15);\n",
              "      filter: drop-shadow(0px 1px 2px rgba(0, 0, 0, 0.3));\n",
              "      fill: #FFFFFF;\n",
              "    }\n",
              "  </style>\n",
              "\n",
              "      <script>\n",
              "        const buttonEl =\n",
              "          document.querySelector('#df-1d659ad9-4bac-41c9-891f-c909d2888fa5 button.colab-df-convert');\n",
              "        buttonEl.style.display =\n",
              "          google.colab.kernel.accessAllowed ? 'block' : 'none';\n",
              "\n",
              "        async function convertToInteractive(key) {\n",
              "          const element = document.querySelector('#df-1d659ad9-4bac-41c9-891f-c909d2888fa5');\n",
              "          const dataTable =\n",
              "            await google.colab.kernel.invokeFunction('convertToInteractive',\n",
              "                                                     [key], {});\n",
              "          if (!dataTable) return;\n",
              "\n",
              "          const docLinkHtml = 'Like what you see? Visit the ' +\n",
              "            '<a target=\"_blank\" href=https://colab.research.google.com/notebooks/data_table.ipynb>data table notebook</a>'\n",
              "            + ' to learn more about interactive tables.';\n",
              "          element.innerHTML = '';\n",
              "          dataTable['output_type'] = 'display_data';\n",
              "          await google.colab.output.renderOutput(dataTable, element);\n",
              "          const docLink = document.createElement('div');\n",
              "          docLink.innerHTML = docLinkHtml;\n",
              "          element.appendChild(docLink);\n",
              "        }\n",
              "      </script>\n",
              "    </div>\n",
              "  </div>\n",
              "  "
            ]
          },
          "metadata": {},
          "execution_count": 160
        }
      ]
    },
    {
      "cell_type": "markdown",
      "source": [
        "The next step is to show the five first rows (records) of the dataset. With the first five rows, the title content is revealed, and the publish date as well. The title is the properties' addresses and publishes date is in the format of `YYYY-mm-dd`."
      ],
      "metadata": {
        "id": "etv-R24q84Os"
      }
    },
    {
      "cell_type": "code",
      "source": [
        "df.head()"
      ],
      "metadata": {
        "colab": {
          "base_uri": "https://localhost:8080/",
          "height": 629
        },
        "id": "1PgXIx7P9YMc",
        "outputId": "c8d167a3-dbdc-4fc2-b1ef-a94284c480a7"
      },
      "execution_count": 161,
      "outputs": [
        {
          "output_type": "execute_result",
          "data": {
            "text/plain": [
              "      CODE                                            ADDRESS featuredLevel  \\\n",
              "0  3626025  11 Chestnut Cres, Bridgemount, Carrigaline, Co...      featured   \n",
              "1  3675175  58 The Glen, Bracklone, Portarlington, Co. Lao...      featured   \n",
              "2  3673450  16 Dodderbrook Ave., Oldcourt, Dublin, D24 E2Y...      featured   \n",
              "3  3649708  31 Lissanálta Dr, Sluggary, Dooradoyle, Co. Li...      featured   \n",
              "4  3643947  5 St Columbas Terrace, Kilballivor, Ballivor, ...      featured   \n",
              "\n",
              "  publishDate   price  numBedrooms  numBathrooms    propertyType  \\\n",
              "0  2022-01-28  290000            3             3  End of Terrace   \n",
              "1  2022-01-28  225000            3             2          Semi-D   \n",
              "2  2022-01-27  575000            4             3          Semi-D   \n",
              "3  2022-01-28  299000            3             3          Semi-D   \n",
              "4  2022-01-28  120000            3             1         Terrace   \n",
              "\n",
              "   propertySize category  ...     sellerType  m_totalImages m_hasVideo  \\\n",
              "0          96.0      Buy  ...  BRANDED_AGENT           16.0      False   \n",
              "1          93.0      Buy  ...  BRANDED_AGENT           33.0      False   \n",
              "2         162.0      Buy  ...  BRANDED_AGENT           38.0      False   \n",
              "3           NaN      Buy  ...  BRANDED_AGENT           22.0      False   \n",
              "4          68.0      Buy  ...  BRANDED_AGENT            5.0      False   \n",
              "\n",
              "  m_hasVirtualTour m_hasBrochure  ber_rating  longitude   latitude  LONGITUDE  \\\n",
              "0            False         False          C2  -8.382500  51.822940  -8.382505   \n",
              "1            False         False          C1  -7.177098  53.157465  -7.180640   \n",
              "2             True         False          A3  -6.342763  53.269493  -6.342353   \n",
              "3            False         False          C2  -8.640716  52.629588  -8.640693   \n",
              "4            False         False           G  -6.879797  53.728601  -6.964963   \n",
              "\n",
              "    LATITUDE  \n",
              "0  51.822938  \n",
              "1  53.156985  \n",
              "2  53.269333  \n",
              "3  52.629593  \n",
              "4  53.531063  \n",
              "\n",
              "[5 rows x 24 columns]"
            ],
            "text/html": [
              "\n",
              "  <div id=\"df-1f82ed69-6c00-43ef-aa9b-e00a561d2de3\">\n",
              "    <div class=\"colab-df-container\">\n",
              "      <div>\n",
              "<style scoped>\n",
              "    .dataframe tbody tr th:only-of-type {\n",
              "        vertical-align: middle;\n",
              "    }\n",
              "\n",
              "    .dataframe tbody tr th {\n",
              "        vertical-align: top;\n",
              "    }\n",
              "\n",
              "    .dataframe thead th {\n",
              "        text-align: right;\n",
              "    }\n",
              "</style>\n",
              "<table border=\"1\" class=\"dataframe\">\n",
              "  <thead>\n",
              "    <tr style=\"text-align: right;\">\n",
              "      <th></th>\n",
              "      <th>CODE</th>\n",
              "      <th>ADDRESS</th>\n",
              "      <th>featuredLevel</th>\n",
              "      <th>publishDate</th>\n",
              "      <th>price</th>\n",
              "      <th>numBedrooms</th>\n",
              "      <th>numBathrooms</th>\n",
              "      <th>propertyType</th>\n",
              "      <th>propertySize</th>\n",
              "      <th>category</th>\n",
              "      <th>...</th>\n",
              "      <th>sellerType</th>\n",
              "      <th>m_totalImages</th>\n",
              "      <th>m_hasVideo</th>\n",
              "      <th>m_hasVirtualTour</th>\n",
              "      <th>m_hasBrochure</th>\n",
              "      <th>ber_rating</th>\n",
              "      <th>longitude</th>\n",
              "      <th>latitude</th>\n",
              "      <th>LONGITUDE</th>\n",
              "      <th>LATITUDE</th>\n",
              "    </tr>\n",
              "  </thead>\n",
              "  <tbody>\n",
              "    <tr>\n",
              "      <th>0</th>\n",
              "      <td>3626025</td>\n",
              "      <td>11 Chestnut Cres, Bridgemount, Carrigaline, Co...</td>\n",
              "      <td>featured</td>\n",
              "      <td>2022-01-28</td>\n",
              "      <td>290000</td>\n",
              "      <td>3</td>\n",
              "      <td>3</td>\n",
              "      <td>End of Terrace</td>\n",
              "      <td>96.0</td>\n",
              "      <td>Buy</td>\n",
              "      <td>...</td>\n",
              "      <td>BRANDED_AGENT</td>\n",
              "      <td>16.0</td>\n",
              "      <td>False</td>\n",
              "      <td>False</td>\n",
              "      <td>False</td>\n",
              "      <td>C2</td>\n",
              "      <td>-8.382500</td>\n",
              "      <td>51.822940</td>\n",
              "      <td>-8.382505</td>\n",
              "      <td>51.822938</td>\n",
              "    </tr>\n",
              "    <tr>\n",
              "      <th>1</th>\n",
              "      <td>3675175</td>\n",
              "      <td>58 The Glen, Bracklone, Portarlington, Co. Lao...</td>\n",
              "      <td>featured</td>\n",
              "      <td>2022-01-28</td>\n",
              "      <td>225000</td>\n",
              "      <td>3</td>\n",
              "      <td>2</td>\n",
              "      <td>Semi-D</td>\n",
              "      <td>93.0</td>\n",
              "      <td>Buy</td>\n",
              "      <td>...</td>\n",
              "      <td>BRANDED_AGENT</td>\n",
              "      <td>33.0</td>\n",
              "      <td>False</td>\n",
              "      <td>False</td>\n",
              "      <td>False</td>\n",
              "      <td>C1</td>\n",
              "      <td>-7.177098</td>\n",
              "      <td>53.157465</td>\n",
              "      <td>-7.180640</td>\n",
              "      <td>53.156985</td>\n",
              "    </tr>\n",
              "    <tr>\n",
              "      <th>2</th>\n",
              "      <td>3673450</td>\n",
              "      <td>16 Dodderbrook Ave., Oldcourt, Dublin, D24 E2Y...</td>\n",
              "      <td>featured</td>\n",
              "      <td>2022-01-27</td>\n",
              "      <td>575000</td>\n",
              "      <td>4</td>\n",
              "      <td>3</td>\n",
              "      <td>Semi-D</td>\n",
              "      <td>162.0</td>\n",
              "      <td>Buy</td>\n",
              "      <td>...</td>\n",
              "      <td>BRANDED_AGENT</td>\n",
              "      <td>38.0</td>\n",
              "      <td>False</td>\n",
              "      <td>True</td>\n",
              "      <td>False</td>\n",
              "      <td>A3</td>\n",
              "      <td>-6.342763</td>\n",
              "      <td>53.269493</td>\n",
              "      <td>-6.342353</td>\n",
              "      <td>53.269333</td>\n",
              "    </tr>\n",
              "    <tr>\n",
              "      <th>3</th>\n",
              "      <td>3649708</td>\n",
              "      <td>31 Lissanálta Dr, Sluggary, Dooradoyle, Co. Li...</td>\n",
              "      <td>featured</td>\n",
              "      <td>2022-01-28</td>\n",
              "      <td>299000</td>\n",
              "      <td>3</td>\n",
              "      <td>3</td>\n",
              "      <td>Semi-D</td>\n",
              "      <td>NaN</td>\n",
              "      <td>Buy</td>\n",
              "      <td>...</td>\n",
              "      <td>BRANDED_AGENT</td>\n",
              "      <td>22.0</td>\n",
              "      <td>False</td>\n",
              "      <td>False</td>\n",
              "      <td>False</td>\n",
              "      <td>C2</td>\n",
              "      <td>-8.640716</td>\n",
              "      <td>52.629588</td>\n",
              "      <td>-8.640693</td>\n",
              "      <td>52.629593</td>\n",
              "    </tr>\n",
              "    <tr>\n",
              "      <th>4</th>\n",
              "      <td>3643947</td>\n",
              "      <td>5 St Columbas Terrace, Kilballivor, Ballivor, ...</td>\n",
              "      <td>featured</td>\n",
              "      <td>2022-01-28</td>\n",
              "      <td>120000</td>\n",
              "      <td>3</td>\n",
              "      <td>1</td>\n",
              "      <td>Terrace</td>\n",
              "      <td>68.0</td>\n",
              "      <td>Buy</td>\n",
              "      <td>...</td>\n",
              "      <td>BRANDED_AGENT</td>\n",
              "      <td>5.0</td>\n",
              "      <td>False</td>\n",
              "      <td>False</td>\n",
              "      <td>False</td>\n",
              "      <td>G</td>\n",
              "      <td>-6.879797</td>\n",
              "      <td>53.728601</td>\n",
              "      <td>-6.964963</td>\n",
              "      <td>53.531063</td>\n",
              "    </tr>\n",
              "  </tbody>\n",
              "</table>\n",
              "<p>5 rows × 24 columns</p>\n",
              "</div>\n",
              "      <button class=\"colab-df-convert\" onclick=\"convertToInteractive('df-1f82ed69-6c00-43ef-aa9b-e00a561d2de3')\"\n",
              "              title=\"Convert this dataframe to an interactive table.\"\n",
              "              style=\"display:none;\">\n",
              "        \n",
              "  <svg xmlns=\"http://www.w3.org/2000/svg\" height=\"24px\"viewBox=\"0 0 24 24\"\n",
              "       width=\"24px\">\n",
              "    <path d=\"M0 0h24v24H0V0z\" fill=\"none\"/>\n",
              "    <path d=\"M18.56 5.44l.94 2.06.94-2.06 2.06-.94-2.06-.94-.94-2.06-.94 2.06-2.06.94zm-11 1L8.5 8.5l.94-2.06 2.06-.94-2.06-.94L8.5 2.5l-.94 2.06-2.06.94zm10 10l.94 2.06.94-2.06 2.06-.94-2.06-.94-.94-2.06-.94 2.06-2.06.94z\"/><path d=\"M17.41 7.96l-1.37-1.37c-.4-.4-.92-.59-1.43-.59-.52 0-1.04.2-1.43.59L10.3 9.45l-7.72 7.72c-.78.78-.78 2.05 0 2.83L4 21.41c.39.39.9.59 1.41.59.51 0 1.02-.2 1.41-.59l7.78-7.78 2.81-2.81c.8-.78.8-2.07 0-2.86zM5.41 20L4 18.59l7.72-7.72 1.47 1.35L5.41 20z\"/>\n",
              "  </svg>\n",
              "      </button>\n",
              "      \n",
              "  <style>\n",
              "    .colab-df-container {\n",
              "      display:flex;\n",
              "      flex-wrap:wrap;\n",
              "      gap: 12px;\n",
              "    }\n",
              "\n",
              "    .colab-df-convert {\n",
              "      background-color: #E8F0FE;\n",
              "      border: none;\n",
              "      border-radius: 50%;\n",
              "      cursor: pointer;\n",
              "      display: none;\n",
              "      fill: #1967D2;\n",
              "      height: 32px;\n",
              "      padding: 0 0 0 0;\n",
              "      width: 32px;\n",
              "    }\n",
              "\n",
              "    .colab-df-convert:hover {\n",
              "      background-color: #E2EBFA;\n",
              "      box-shadow: 0px 1px 2px rgba(60, 64, 67, 0.3), 0px 1px 3px 1px rgba(60, 64, 67, 0.15);\n",
              "      fill: #174EA6;\n",
              "    }\n",
              "\n",
              "    [theme=dark] .colab-df-convert {\n",
              "      background-color: #3B4455;\n",
              "      fill: #D2E3FC;\n",
              "    }\n",
              "\n",
              "    [theme=dark] .colab-df-convert:hover {\n",
              "      background-color: #434B5C;\n",
              "      box-shadow: 0px 1px 3px 1px rgba(0, 0, 0, 0.15);\n",
              "      filter: drop-shadow(0px 1px 2px rgba(0, 0, 0, 0.3));\n",
              "      fill: #FFFFFF;\n",
              "    }\n",
              "  </style>\n",
              "\n",
              "      <script>\n",
              "        const buttonEl =\n",
              "          document.querySelector('#df-1f82ed69-6c00-43ef-aa9b-e00a561d2de3 button.colab-df-convert');\n",
              "        buttonEl.style.display =\n",
              "          google.colab.kernel.accessAllowed ? 'block' : 'none';\n",
              "\n",
              "        async function convertToInteractive(key) {\n",
              "          const element = document.querySelector('#df-1f82ed69-6c00-43ef-aa9b-e00a561d2de3');\n",
              "          const dataTable =\n",
              "            await google.colab.kernel.invokeFunction('convertToInteractive',\n",
              "                                                     [key], {});\n",
              "          if (!dataTable) return;\n",
              "\n",
              "          const docLinkHtml = 'Like what you see? Visit the ' +\n",
              "            '<a target=\"_blank\" href=https://colab.research.google.com/notebooks/data_table.ipynb>data table notebook</a>'\n",
              "            + ' to learn more about interactive tables.';\n",
              "          element.innerHTML = '';\n",
              "          dataTable['output_type'] = 'display_data';\n",
              "          await google.colab.output.renderOutput(dataTable, element);\n",
              "          const docLink = document.createElement('div');\n",
              "          docLink.innerHTML = docLinkHtml;\n",
              "          element.appendChild(docLink);\n",
              "        }\n",
              "      </script>\n",
              "    </div>\n",
              "  </div>\n",
              "  "
            ]
          },
          "metadata": {},
          "execution_count": 161
        }
      ]
    },
    {
      "cell_type": "markdown",
      "source": [
        "According to the description of the dataset available on Kaggle, the attribute category has two values, 'buy' and 'new homes'. It does not make clear if a buy value is a property already bought or already sold. This attribute will not be necessary for our analysis and training model. See the attribute described below.\n",
        "\n",
        "category: ['Buy' 'New Homes'] (Buy means the houses listed under Buy menu in the websites)\n",
        "\n",
        "The method called unique will show if this attribute in fact has only two categories."
      ],
      "metadata": {
        "id": "ADupPmglBPKT"
      }
    },
    {
      "cell_type": "code",
      "source": [
        "df['category'].unique()"
      ],
      "metadata": {
        "colab": {
          "base_uri": "https://localhost:8080/"
        },
        "id": "ehI7jys_9bBE",
        "outputId": "8aba6806-e767-42a8-dadf-bf755eac13a1"
      },
      "execution_count": 162,
      "outputs": [
        {
          "output_type": "execute_result",
          "data": {
            "text/plain": [
              "array(['Buy', 'New Homes'], dtype=object)"
            ]
          },
          "metadata": {},
          "execution_count": 162
        }
      ]
    },
    {
      "cell_type": "markdown",
      "source": [
        "AMVprice: Advised minimum value (some properties have AMV price. The price column was mixed with regular price and AMV price, created a new column for AMV price to flag if it is AMV or not.)\n",
        "\n",
        "Python provides a method called value_counts that returns the number of frequency of each value in the dataset. 188 out of 3779 records are estimated prices."
      ],
      "metadata": {
        "id": "A-Uae4X39hj8"
      }
    },
    {
      "cell_type": "code",
      "source": [
        "df['AMV_price'].value_counts()"
      ],
      "metadata": {
        "colab": {
          "base_uri": "https://localhost:8080/"
        },
        "id": "UkWB-HUVEVq1",
        "outputId": "10b65730-f8b8-4642-fa36-ece0d331500c"
      },
      "execution_count": 163,
      "outputs": [
        {
          "output_type": "execute_result",
          "data": {
            "text/plain": [
              "0    3779\n",
              "1     188\n",
              "Name: AMV_price, dtype: int64"
            ]
          },
          "metadata": {},
          "execution_count": 163
        }
      ]
    },
    {
      "cell_type": "markdown",
      "source": [
        "**See below the description of some attributes we will analyse next.**\n",
        "\n",
        "sellerId: Seller's Id\n",
        "\n",
        "sellername: Seller's name\n",
        "\n",
        "sellerbranch: Seller's branch if it is an agency.\n",
        "\n",
        "sellerType: ['BRANDEDAGENT' 'UNBRANDEDAGENT' 'PRIVATEUSER']\n",
        "\n",
        "m_totalImages: Total images posted on the website.\n",
        "\n",
        "m_hasVideo: Whether the property posted a video or not.\n",
        "\n",
        "m_hasVirtualTour: Whether the property has a virtual tour or not.\n",
        "\n",
        "m_hasBrochure: Whether the property has a brochure or not.\n",
        "\n",
        "ber_rating: ['C2' 'C1' 'A3' 'G' 'D2' 'B3' 'D1' 'C3' 'E1' 'SI666' 'F' 'E2' 'B2' 'XXX', 'A2,''B1' 'A1' 'A1A2']\n",
        "(XXX means the rating was missing)"
      ],
      "metadata": {
        "id": "phRgqsxL9otV"
      }
    },
    {
      "cell_type": "markdown",
      "source": [
        "We have 169 missing rate values"
      ],
      "metadata": {
        "id": "CRQdygqXGgEP"
      }
    },
    {
      "cell_type": "code",
      "source": [
        "df[df['ber_rating'] == 'XXX'].shape[0]"
      ],
      "metadata": {
        "colab": {
          "base_uri": "https://localhost:8080/"
        },
        "id": "8LGs81gO91Ac",
        "outputId": "bb94fd10-3ba3-4599-bf38-26cf1c49e30d"
      },
      "execution_count": 164,
      "outputs": [
        {
          "output_type": "execute_result",
          "data": {
            "text/plain": [
              "169"
            ]
          },
          "metadata": {},
          "execution_count": 164
        }
      ]
    },
    {
      "cell_type": "markdown",
      "source": [
        "In the separated analysis we realise the longitude and latitude coordinates are not correct. Attribute `id` is represented by `CODE`."
      ],
      "metadata": {
        "id": "7GDLyyiocogi"
      }
    },
    {
      "cell_type": "markdown",
      "source": [
        "## Cleanig Dataset"
      ],
      "metadata": {
        "id": "TFUJH9SWHAzO"
      }
    },
    {
      "cell_type": "markdown",
      "source": [
        "After our analysis we came to conclusion that we do not need the CODE (id), featured level, category, AMV price, seller id, seller name, seller branch, seller type, total images, videos, virtual tour, brochure and rating to train the model.\n",
        "\n",
        "Now we can select them and drop from the dataset.\n"
      ],
      "metadata": {
        "id": "3O1JjK7dG84n"
      }
    },
    {
      "cell_type": "code",
      "source": [
        "delete_columns = ['CODE','featuredLevel', 'category', 'AMV_price','sellerId', 'seller_name', 'seller_branch', 'sellerType', 'm_totalImages', 'm_hasVideo', 'm_hasVirtualTour', 'm_hasBrochure', 'ber_rating']\n",
        "df.drop(delete_columns, axis=1, inplace=True)"
      ],
      "metadata": {
        "id": "_y8-DfZY92GM"
      },
      "execution_count": 165,
      "outputs": []
    },
    {
      "cell_type": "markdown",
      "source": [
        "We have also to remove the attributes of `longitude` and `latitude` from our dataset. As we discussed before, they have incorrect coordinates. Thus, we no longer need them, and we can replace them with attributes with the same name written in capital letters."
      ],
      "metadata": {
        "id": "0oEQSgIiaOUM"
      }
    },
    {
      "cell_type": "code",
      "source": [
        "delete_columns = ['longitude',\t'latitude']\n",
        "df.drop(delete_columns, axis=1, inplace=True)"
      ],
      "metadata": {
        "id": "IvFQZSDKZyl2"
      },
      "execution_count": 166,
      "outputs": []
    },
    {
      "cell_type": "markdown",
      "source": [
        "To complete our replacement, we can rename the attributes written in capital letters to lower case for the sake of simplicity.\n",
        "\n",
        "We will not rename the other attributes yet. First of all, we have to understand our dataset to give the columns a suitable name."
      ],
      "metadata": {
        "id": "36ZswKFNbc_m"
      }
    },
    {
      "cell_type": "code",
      "source": [
        "rename_columns = {'LONGITUDE': 'longitude', 'LATITUDE': 'latitude'}\n",
        "df.rename(columns=rename_columns, inplace=True)\n",
        "df.columns"
      ],
      "metadata": {
        "colab": {
          "base_uri": "https://localhost:8080/"
        },
        "id": "Ixq8adOOa5Ns",
        "outputId": "45824846-4b7e-4554-bbfd-de71dd442c7b"
      },
      "execution_count": 167,
      "outputs": [
        {
          "output_type": "execute_result",
          "data": {
            "text/plain": [
              "Index(['ADDRESS', 'publishDate', 'price', 'numBedrooms', 'numBathrooms',\n",
              "       'propertyType', 'propertySize', 'longitude', 'latitude'],\n",
              "      dtype='object')"
            ]
          },
          "metadata": {},
          "execution_count": 167
        }
      ]
    },
    {
      "cell_type": "markdown",
      "source": [
        "We have a much cleaner dataset by dropping those columns (attributes). However, there is a lot to do yet."
      ],
      "metadata": {
        "id": "sUQCMuHiJMo5"
      }
    },
    {
      "cell_type": "code",
      "source": [
        "df.head()"
      ],
      "metadata": {
        "colab": {
          "base_uri": "https://localhost:8080/",
          "height": 206
        },
        "id": "vhV4-JRj96Sy",
        "outputId": "c1237656-4655-41dc-f0e3-40b43b38714b"
      },
      "execution_count": 168,
      "outputs": [
        {
          "output_type": "execute_result",
          "data": {
            "text/plain": [
              "                                             ADDRESS publishDate   price  \\\n",
              "0  11 Chestnut Cres, Bridgemount, Carrigaline, Co...  2022-01-28  290000   \n",
              "1  58 The Glen, Bracklone, Portarlington, Co. Lao...  2022-01-28  225000   \n",
              "2  16 Dodderbrook Ave., Oldcourt, Dublin, D24 E2Y...  2022-01-27  575000   \n",
              "3  31 Lissanálta Dr, Sluggary, Dooradoyle, Co. Li...  2022-01-28  299000   \n",
              "4  5 St Columbas Terrace, Kilballivor, Ballivor, ...  2022-01-28  120000   \n",
              "\n",
              "   numBedrooms  numBathrooms    propertyType  propertySize  longitude  \\\n",
              "0            3             3  End of Terrace          96.0  -8.382505   \n",
              "1            3             2          Semi-D          93.0  -7.180640   \n",
              "2            4             3          Semi-D         162.0  -6.342353   \n",
              "3            3             3          Semi-D           NaN  -8.640693   \n",
              "4            3             1         Terrace          68.0  -6.964963   \n",
              "\n",
              "    latitude  \n",
              "0  51.822938  \n",
              "1  53.156985  \n",
              "2  53.269333  \n",
              "3  52.629593  \n",
              "4  53.531063  "
            ],
            "text/html": [
              "\n",
              "  <div id=\"df-6304bab3-2173-4ca9-8648-203f3ef9cc67\">\n",
              "    <div class=\"colab-df-container\">\n",
              "      <div>\n",
              "<style scoped>\n",
              "    .dataframe tbody tr th:only-of-type {\n",
              "        vertical-align: middle;\n",
              "    }\n",
              "\n",
              "    .dataframe tbody tr th {\n",
              "        vertical-align: top;\n",
              "    }\n",
              "\n",
              "    .dataframe thead th {\n",
              "        text-align: right;\n",
              "    }\n",
              "</style>\n",
              "<table border=\"1\" class=\"dataframe\">\n",
              "  <thead>\n",
              "    <tr style=\"text-align: right;\">\n",
              "      <th></th>\n",
              "      <th>ADDRESS</th>\n",
              "      <th>publishDate</th>\n",
              "      <th>price</th>\n",
              "      <th>numBedrooms</th>\n",
              "      <th>numBathrooms</th>\n",
              "      <th>propertyType</th>\n",
              "      <th>propertySize</th>\n",
              "      <th>longitude</th>\n",
              "      <th>latitude</th>\n",
              "    </tr>\n",
              "  </thead>\n",
              "  <tbody>\n",
              "    <tr>\n",
              "      <th>0</th>\n",
              "      <td>11 Chestnut Cres, Bridgemount, Carrigaline, Co...</td>\n",
              "      <td>2022-01-28</td>\n",
              "      <td>290000</td>\n",
              "      <td>3</td>\n",
              "      <td>3</td>\n",
              "      <td>End of Terrace</td>\n",
              "      <td>96.0</td>\n",
              "      <td>-8.382505</td>\n",
              "      <td>51.822938</td>\n",
              "    </tr>\n",
              "    <tr>\n",
              "      <th>1</th>\n",
              "      <td>58 The Glen, Bracklone, Portarlington, Co. Lao...</td>\n",
              "      <td>2022-01-28</td>\n",
              "      <td>225000</td>\n",
              "      <td>3</td>\n",
              "      <td>2</td>\n",
              "      <td>Semi-D</td>\n",
              "      <td>93.0</td>\n",
              "      <td>-7.180640</td>\n",
              "      <td>53.156985</td>\n",
              "    </tr>\n",
              "    <tr>\n",
              "      <th>2</th>\n",
              "      <td>16 Dodderbrook Ave., Oldcourt, Dublin, D24 E2Y...</td>\n",
              "      <td>2022-01-27</td>\n",
              "      <td>575000</td>\n",
              "      <td>4</td>\n",
              "      <td>3</td>\n",
              "      <td>Semi-D</td>\n",
              "      <td>162.0</td>\n",
              "      <td>-6.342353</td>\n",
              "      <td>53.269333</td>\n",
              "    </tr>\n",
              "    <tr>\n",
              "      <th>3</th>\n",
              "      <td>31 Lissanálta Dr, Sluggary, Dooradoyle, Co. Li...</td>\n",
              "      <td>2022-01-28</td>\n",
              "      <td>299000</td>\n",
              "      <td>3</td>\n",
              "      <td>3</td>\n",
              "      <td>Semi-D</td>\n",
              "      <td>NaN</td>\n",
              "      <td>-8.640693</td>\n",
              "      <td>52.629593</td>\n",
              "    </tr>\n",
              "    <tr>\n",
              "      <th>4</th>\n",
              "      <td>5 St Columbas Terrace, Kilballivor, Ballivor, ...</td>\n",
              "      <td>2022-01-28</td>\n",
              "      <td>120000</td>\n",
              "      <td>3</td>\n",
              "      <td>1</td>\n",
              "      <td>Terrace</td>\n",
              "      <td>68.0</td>\n",
              "      <td>-6.964963</td>\n",
              "      <td>53.531063</td>\n",
              "    </tr>\n",
              "  </tbody>\n",
              "</table>\n",
              "</div>\n",
              "      <button class=\"colab-df-convert\" onclick=\"convertToInteractive('df-6304bab3-2173-4ca9-8648-203f3ef9cc67')\"\n",
              "              title=\"Convert this dataframe to an interactive table.\"\n",
              "              style=\"display:none;\">\n",
              "        \n",
              "  <svg xmlns=\"http://www.w3.org/2000/svg\" height=\"24px\"viewBox=\"0 0 24 24\"\n",
              "       width=\"24px\">\n",
              "    <path d=\"M0 0h24v24H0V0z\" fill=\"none\"/>\n",
              "    <path d=\"M18.56 5.44l.94 2.06.94-2.06 2.06-.94-2.06-.94-.94-2.06-.94 2.06-2.06.94zm-11 1L8.5 8.5l.94-2.06 2.06-.94-2.06-.94L8.5 2.5l-.94 2.06-2.06.94zm10 10l.94 2.06.94-2.06 2.06-.94-2.06-.94-.94-2.06-.94 2.06-2.06.94z\"/><path d=\"M17.41 7.96l-1.37-1.37c-.4-.4-.92-.59-1.43-.59-.52 0-1.04.2-1.43.59L10.3 9.45l-7.72 7.72c-.78.78-.78 2.05 0 2.83L4 21.41c.39.39.9.59 1.41.59.51 0 1.02-.2 1.41-.59l7.78-7.78 2.81-2.81c.8-.78.8-2.07 0-2.86zM5.41 20L4 18.59l7.72-7.72 1.47 1.35L5.41 20z\"/>\n",
              "  </svg>\n",
              "      </button>\n",
              "      \n",
              "  <style>\n",
              "    .colab-df-container {\n",
              "      display:flex;\n",
              "      flex-wrap:wrap;\n",
              "      gap: 12px;\n",
              "    }\n",
              "\n",
              "    .colab-df-convert {\n",
              "      background-color: #E8F0FE;\n",
              "      border: none;\n",
              "      border-radius: 50%;\n",
              "      cursor: pointer;\n",
              "      display: none;\n",
              "      fill: #1967D2;\n",
              "      height: 32px;\n",
              "      padding: 0 0 0 0;\n",
              "      width: 32px;\n",
              "    }\n",
              "\n",
              "    .colab-df-convert:hover {\n",
              "      background-color: #E2EBFA;\n",
              "      box-shadow: 0px 1px 2px rgba(60, 64, 67, 0.3), 0px 1px 3px 1px rgba(60, 64, 67, 0.15);\n",
              "      fill: #174EA6;\n",
              "    }\n",
              "\n",
              "    [theme=dark] .colab-df-convert {\n",
              "      background-color: #3B4455;\n",
              "      fill: #D2E3FC;\n",
              "    }\n",
              "\n",
              "    [theme=dark] .colab-df-convert:hover {\n",
              "      background-color: #434B5C;\n",
              "      box-shadow: 0px 1px 3px 1px rgba(0, 0, 0, 0.15);\n",
              "      filter: drop-shadow(0px 1px 2px rgba(0, 0, 0, 0.3));\n",
              "      fill: #FFFFFF;\n",
              "    }\n",
              "  </style>\n",
              "\n",
              "      <script>\n",
              "        const buttonEl =\n",
              "          document.querySelector('#df-6304bab3-2173-4ca9-8648-203f3ef9cc67 button.colab-df-convert');\n",
              "        buttonEl.style.display =\n",
              "          google.colab.kernel.accessAllowed ? 'block' : 'none';\n",
              "\n",
              "        async function convertToInteractive(key) {\n",
              "          const element = document.querySelector('#df-6304bab3-2173-4ca9-8648-203f3ef9cc67');\n",
              "          const dataTable =\n",
              "            await google.colab.kernel.invokeFunction('convertToInteractive',\n",
              "                                                     [key], {});\n",
              "          if (!dataTable) return;\n",
              "\n",
              "          const docLinkHtml = 'Like what you see? Visit the ' +\n",
              "            '<a target=\"_blank\" href=https://colab.research.google.com/notebooks/data_table.ipynb>data table notebook</a>'\n",
              "            + ' to learn more about interactive tables.';\n",
              "          element.innerHTML = '';\n",
              "          dataTable['output_type'] = 'display_data';\n",
              "          await google.colab.output.renderOutput(dataTable, element);\n",
              "          const docLink = document.createElement('div');\n",
              "          docLink.innerHTML = docLinkHtml;\n",
              "          element.appendChild(docLink);\n",
              "        }\n",
              "      </script>\n",
              "    </div>\n",
              "  </div>\n",
              "  "
            ]
          },
          "metadata": {},
          "execution_count": 168
        }
      ]
    },
    {
      "cell_type": "markdown",
      "source": [
        "The next step is to detect whether there is any NaN value in the dataset. Notice that there are 355 records that contain NaN values."
      ],
      "metadata": {
        "id": "RDFUXP66JzdF"
      }
    },
    {
      "cell_type": "code",
      "source": [
        "df.isnull().sum()"
      ],
      "metadata": {
        "colab": {
          "base_uri": "https://localhost:8080/"
        },
        "id": "pxQxPMDQ97y9",
        "outputId": "2a9a0bc9-d556-4c50-f9db-fea4eb618b73"
      },
      "execution_count": 169,
      "outputs": [
        {
          "output_type": "execute_result",
          "data": {
            "text/plain": [
              "ADDRESS           0\n",
              "publishDate       0\n",
              "price             0\n",
              "numBedrooms       0\n",
              "numBathrooms      0\n",
              "propertyType      0\n",
              "propertySize    355\n",
              "longitude         0\n",
              "latitude          0\n",
              "dtype: int64"
            ]
          },
          "metadata": {},
          "execution_count": 169
        }
      ]
    },
    {
      "cell_type": "markdown",
      "source": [
        "Pandas dropna method removes all the NaN values"
      ],
      "metadata": {
        "id": "C-b7CSsSKbrU"
      }
    },
    {
      "cell_type": "code",
      "source": [
        "df.dropna(inplace=True)\n",
        "df.isnull().sum()"
      ],
      "metadata": {
        "id": "FJSgXQv2987e",
        "colab": {
          "base_uri": "https://localhost:8080/"
        },
        "outputId": "6ceabaca-3f7a-496e-c47e-707c533e2f2f"
      },
      "execution_count": 170,
      "outputs": [
        {
          "output_type": "execute_result",
          "data": {
            "text/plain": [
              "ADDRESS         0\n",
              "publishDate     0\n",
              "price           0\n",
              "numBedrooms     0\n",
              "numBathrooms    0\n",
              "propertyType    0\n",
              "propertySize    0\n",
              "longitude       0\n",
              "latitude        0\n",
              "dtype: int64"
            ]
          },
          "metadata": {},
          "execution_count": 170
        }
      ]
    },
    {
      "cell_type": "markdown",
      "source": [
        "We can also look for duplicate values in the dataset. And as we can see below there are some duplicated values in it."
      ],
      "metadata": {
        "id": "SRToTjCTLhes"
      }
    },
    {
      "cell_type": "code",
      "source": [
        "df.duplicated().sum()"
      ],
      "metadata": {
        "colab": {
          "base_uri": "https://localhost:8080/"
        },
        "id": "7XF5fbOj9_af",
        "outputId": "ad24abda-02be-4943-cadf-671267c4e98a"
      },
      "execution_count": 171,
      "outputs": [
        {
          "output_type": "execute_result",
          "data": {
            "text/plain": [
              "3"
            ]
          },
          "metadata": {},
          "execution_count": 171
        }
      ]
    },
    {
      "cell_type": "markdown",
      "source": [
        "Python pandas package offers a method called `drop_duplicates` that easily removes any duplicate values."
      ],
      "metadata": {
        "id": "iysUes0rdT4z"
      }
    },
    {
      "cell_type": "code",
      "source": [
        "df.drop_duplicates(inplace = True)"
      ],
      "metadata": {
        "id": "_fco34cvdepc"
      },
      "execution_count": 172,
      "outputs": []
    },
    {
      "cell_type": "markdown",
      "source": [
        "When we check for duplicated value they no longer are in our dataset."
      ],
      "metadata": {
        "id": "-C6kxIXPdz2J"
      }
    },
    {
      "cell_type": "code",
      "source": [
        "df.duplicated().sum()"
      ],
      "metadata": {
        "colab": {
          "base_uri": "https://localhost:8080/"
        },
        "id": "PLA2FghjdfN0",
        "outputId": "d0c902bf-8547-433a-84bc-0b3019afb72b"
      },
      "execution_count": 173,
      "outputs": [
        {
          "output_type": "execute_result",
          "data": {
            "text/plain": [
              "0"
            ]
          },
          "metadata": {},
          "execution_count": 173
        }
      ]
    },
    {
      "cell_type": "markdown",
      "source": [
        "Previously, we learned that the maritime limits in the Irish territorial sea do not exceed -11 degrees for longitude and a property smaller than 20 meters could be an outlier. That might have been a shed or something like that."
      ],
      "metadata": {
        "id": "TmUZCHKpFXO5"
      }
    },
    {
      "cell_type": "code",
      "source": [
        "df.loc[df['longitude'] < -11.000000, 'longitude'] = np.nan\n",
        "df.loc[df['propertySize'] < 20, 'propertySize'] = np.nan\n",
        "df.dropna(inplace=True)\n",
        "df.describe()"
      ],
      "metadata": {
        "colab": {
          "base_uri": "https://localhost:8080/",
          "height": 300
        },
        "id": "mxRsZmw7ilhg",
        "outputId": "ff8e33ea-ca93-4f8e-df06-81333ac8b8bd"
      },
      "execution_count": 174,
      "outputs": [
        {
          "output_type": "execute_result",
          "data": {
            "text/plain": [
              "              price  numBedrooms  numBathrooms  propertySize    longitude  \\\n",
              "count  3.600000e+03  3600.000000   3600.000000   3600.000000  3600.000000   \n",
              "mean   3.474183e+05     3.121389      2.076667    132.930556    -7.330053   \n",
              "std    2.730490e+05     1.191798      1.119039    295.683122     1.149214   \n",
              "min    2.000000e+04     1.000000      1.000000     31.000000   -10.328275   \n",
              "25%    1.990000e+05     2.000000      1.000000     78.000000    -8.400057   \n",
              "50%    2.800000e+05     3.000000      2.000000    103.000000    -6.951842   \n",
              "75%    3.950000e+05     4.000000      3.000000    137.000000    -6.295140   \n",
              "max    4.500000e+06    16.000000     13.000000   8600.000000     0.000000   \n",
              "\n",
              "          latitude  \n",
              "count  3600.000000  \n",
              "mean     53.097073  \n",
              "std       1.425417  \n",
              "min       0.000000  \n",
              "25%      52.666248  \n",
              "50%      53.300061  \n",
              "75%      53.423553  \n",
              "max      55.294928  "
            ],
            "text/html": [
              "\n",
              "  <div id=\"df-9edff7d9-4fef-4f22-91c5-5817ade36c85\">\n",
              "    <div class=\"colab-df-container\">\n",
              "      <div>\n",
              "<style scoped>\n",
              "    .dataframe tbody tr th:only-of-type {\n",
              "        vertical-align: middle;\n",
              "    }\n",
              "\n",
              "    .dataframe tbody tr th {\n",
              "        vertical-align: top;\n",
              "    }\n",
              "\n",
              "    .dataframe thead th {\n",
              "        text-align: right;\n",
              "    }\n",
              "</style>\n",
              "<table border=\"1\" class=\"dataframe\">\n",
              "  <thead>\n",
              "    <tr style=\"text-align: right;\">\n",
              "      <th></th>\n",
              "      <th>price</th>\n",
              "      <th>numBedrooms</th>\n",
              "      <th>numBathrooms</th>\n",
              "      <th>propertySize</th>\n",
              "      <th>longitude</th>\n",
              "      <th>latitude</th>\n",
              "    </tr>\n",
              "  </thead>\n",
              "  <tbody>\n",
              "    <tr>\n",
              "      <th>count</th>\n",
              "      <td>3.600000e+03</td>\n",
              "      <td>3600.000000</td>\n",
              "      <td>3600.000000</td>\n",
              "      <td>3600.000000</td>\n",
              "      <td>3600.000000</td>\n",
              "      <td>3600.000000</td>\n",
              "    </tr>\n",
              "    <tr>\n",
              "      <th>mean</th>\n",
              "      <td>3.474183e+05</td>\n",
              "      <td>3.121389</td>\n",
              "      <td>2.076667</td>\n",
              "      <td>132.930556</td>\n",
              "      <td>-7.330053</td>\n",
              "      <td>53.097073</td>\n",
              "    </tr>\n",
              "    <tr>\n",
              "      <th>std</th>\n",
              "      <td>2.730490e+05</td>\n",
              "      <td>1.191798</td>\n",
              "      <td>1.119039</td>\n",
              "      <td>295.683122</td>\n",
              "      <td>1.149214</td>\n",
              "      <td>1.425417</td>\n",
              "    </tr>\n",
              "    <tr>\n",
              "      <th>min</th>\n",
              "      <td>2.000000e+04</td>\n",
              "      <td>1.000000</td>\n",
              "      <td>1.000000</td>\n",
              "      <td>31.000000</td>\n",
              "      <td>-10.328275</td>\n",
              "      <td>0.000000</td>\n",
              "    </tr>\n",
              "    <tr>\n",
              "      <th>25%</th>\n",
              "      <td>1.990000e+05</td>\n",
              "      <td>2.000000</td>\n",
              "      <td>1.000000</td>\n",
              "      <td>78.000000</td>\n",
              "      <td>-8.400057</td>\n",
              "      <td>52.666248</td>\n",
              "    </tr>\n",
              "    <tr>\n",
              "      <th>50%</th>\n",
              "      <td>2.800000e+05</td>\n",
              "      <td>3.000000</td>\n",
              "      <td>2.000000</td>\n",
              "      <td>103.000000</td>\n",
              "      <td>-6.951842</td>\n",
              "      <td>53.300061</td>\n",
              "    </tr>\n",
              "    <tr>\n",
              "      <th>75%</th>\n",
              "      <td>3.950000e+05</td>\n",
              "      <td>4.000000</td>\n",
              "      <td>3.000000</td>\n",
              "      <td>137.000000</td>\n",
              "      <td>-6.295140</td>\n",
              "      <td>53.423553</td>\n",
              "    </tr>\n",
              "    <tr>\n",
              "      <th>max</th>\n",
              "      <td>4.500000e+06</td>\n",
              "      <td>16.000000</td>\n",
              "      <td>13.000000</td>\n",
              "      <td>8600.000000</td>\n",
              "      <td>0.000000</td>\n",
              "      <td>55.294928</td>\n",
              "    </tr>\n",
              "  </tbody>\n",
              "</table>\n",
              "</div>\n",
              "      <button class=\"colab-df-convert\" onclick=\"convertToInteractive('df-9edff7d9-4fef-4f22-91c5-5817ade36c85')\"\n",
              "              title=\"Convert this dataframe to an interactive table.\"\n",
              "              style=\"display:none;\">\n",
              "        \n",
              "  <svg xmlns=\"http://www.w3.org/2000/svg\" height=\"24px\"viewBox=\"0 0 24 24\"\n",
              "       width=\"24px\">\n",
              "    <path d=\"M0 0h24v24H0V0z\" fill=\"none\"/>\n",
              "    <path d=\"M18.56 5.44l.94 2.06.94-2.06 2.06-.94-2.06-.94-.94-2.06-.94 2.06-2.06.94zm-11 1L8.5 8.5l.94-2.06 2.06-.94-2.06-.94L8.5 2.5l-.94 2.06-2.06.94zm10 10l.94 2.06.94-2.06 2.06-.94-2.06-.94-.94-2.06-.94 2.06-2.06.94z\"/><path d=\"M17.41 7.96l-1.37-1.37c-.4-.4-.92-.59-1.43-.59-.52 0-1.04.2-1.43.59L10.3 9.45l-7.72 7.72c-.78.78-.78 2.05 0 2.83L4 21.41c.39.39.9.59 1.41.59.51 0 1.02-.2 1.41-.59l7.78-7.78 2.81-2.81c.8-.78.8-2.07 0-2.86zM5.41 20L4 18.59l7.72-7.72 1.47 1.35L5.41 20z\"/>\n",
              "  </svg>\n",
              "      </button>\n",
              "      \n",
              "  <style>\n",
              "    .colab-df-container {\n",
              "      display:flex;\n",
              "      flex-wrap:wrap;\n",
              "      gap: 12px;\n",
              "    }\n",
              "\n",
              "    .colab-df-convert {\n",
              "      background-color: #E8F0FE;\n",
              "      border: none;\n",
              "      border-radius: 50%;\n",
              "      cursor: pointer;\n",
              "      display: none;\n",
              "      fill: #1967D2;\n",
              "      height: 32px;\n",
              "      padding: 0 0 0 0;\n",
              "      width: 32px;\n",
              "    }\n",
              "\n",
              "    .colab-df-convert:hover {\n",
              "      background-color: #E2EBFA;\n",
              "      box-shadow: 0px 1px 2px rgba(60, 64, 67, 0.3), 0px 1px 3px 1px rgba(60, 64, 67, 0.15);\n",
              "      fill: #174EA6;\n",
              "    }\n",
              "\n",
              "    [theme=dark] .colab-df-convert {\n",
              "      background-color: #3B4455;\n",
              "      fill: #D2E3FC;\n",
              "    }\n",
              "\n",
              "    [theme=dark] .colab-df-convert:hover {\n",
              "      background-color: #434B5C;\n",
              "      box-shadow: 0px 1px 3px 1px rgba(0, 0, 0, 0.15);\n",
              "      filter: drop-shadow(0px 1px 2px rgba(0, 0, 0, 0.3));\n",
              "      fill: #FFFFFF;\n",
              "    }\n",
              "  </style>\n",
              "\n",
              "      <script>\n",
              "        const buttonEl =\n",
              "          document.querySelector('#df-9edff7d9-4fef-4f22-91c5-5817ade36c85 button.colab-df-convert');\n",
              "        buttonEl.style.display =\n",
              "          google.colab.kernel.accessAllowed ? 'block' : 'none';\n",
              "\n",
              "        async function convertToInteractive(key) {\n",
              "          const element = document.querySelector('#df-9edff7d9-4fef-4f22-91c5-5817ade36c85');\n",
              "          const dataTable =\n",
              "            await google.colab.kernel.invokeFunction('convertToInteractive',\n",
              "                                                     [key], {});\n",
              "          if (!dataTable) return;\n",
              "\n",
              "          const docLinkHtml = 'Like what you see? Visit the ' +\n",
              "            '<a target=\"_blank\" href=https://colab.research.google.com/notebooks/data_table.ipynb>data table notebook</a>'\n",
              "            + ' to learn more about interactive tables.';\n",
              "          element.innerHTML = '';\n",
              "          dataTable['output_type'] = 'display_data';\n",
              "          await google.colab.output.renderOutput(dataTable, element);\n",
              "          const docLink = document.createElement('div');\n",
              "          docLink.innerHTML = docLinkHtml;\n",
              "          element.appendChild(docLink);\n",
              "        }\n",
              "      </script>\n",
              "    </div>\n",
              "  </div>\n",
              "  "
            ]
          },
          "metadata": {},
          "execution_count": 174
        }
      ]
    },
    {
      "cell_type": "markdown",
      "source": [
        "When we analysed the description of the dataset, there were properties with more than 10. We can filter all data higher than 10 bedrooms and then conduct research to find out whether this data represent outliers.\n",
        "\n",
        "The result shows there is a property that has 16 bedrooms built in an area of 67m². Would it be possible?"
      ],
      "metadata": {
        "id": "Ixk8uhZSNRHC"
      }
    },
    {
      "cell_type": "code",
      "source": [
        "df[df['numBedrooms'] > 10]"
      ],
      "metadata": {
        "colab": {
          "base_uri": "https://localhost:8080/",
          "height": 206
        },
        "id": "Gtio78-wJJ41",
        "outputId": "ab2e91ba-ae34-4fff-838e-a21ec3276acd"
      },
      "execution_count": 175,
      "outputs": [
        {
          "output_type": "execute_result",
          "data": {
            "text/plain": [
              "                                                ADDRESS publishDate    price  \\\n",
              "113                   Dungarvan, Co. Waterford, Ireland  2022-01-24   650000   \n",
              "394                   Kilmore Lower, Co. Cavan, Ireland  2022-01-28   900000   \n",
              "404   1 Gulladoo Village, Cornaferst, Carrigallen, C...  2022-01-28   695000   \n",
              "3070  Firmount House, Firmount Demesne, Clane, Co. K...  2022-01-30  1600000   \n",
              "3143  Lake Road, Eightercua, Waterville, Co. Kerry, ...  2022-01-11   795000   \n",
              "\n",
              "      numBedrooms  numBathrooms propertyType  propertySize  longitude  \\\n",
              "113            13            13     Detached         557.0  -7.620363   \n",
              "394            16             4     Detached          67.0  -7.423140   \n",
              "404            16            10     Detached         648.0  -7.628445   \n",
              "3070           14             9     Detached        1208.0  -6.709118   \n",
              "3143           12            13     Detached         641.0 -10.143460   \n",
              "\n",
              "       latitude  \n",
              "113   52.093676  \n",
              "394   53.989965  \n",
              "404   53.946525  \n",
              "3070  53.280750  \n",
              "3143  51.815346  "
            ],
            "text/html": [
              "\n",
              "  <div id=\"df-fc8b02c1-608c-4b1f-aaca-ec1101ec46d1\">\n",
              "    <div class=\"colab-df-container\">\n",
              "      <div>\n",
              "<style scoped>\n",
              "    .dataframe tbody tr th:only-of-type {\n",
              "        vertical-align: middle;\n",
              "    }\n",
              "\n",
              "    .dataframe tbody tr th {\n",
              "        vertical-align: top;\n",
              "    }\n",
              "\n",
              "    .dataframe thead th {\n",
              "        text-align: right;\n",
              "    }\n",
              "</style>\n",
              "<table border=\"1\" class=\"dataframe\">\n",
              "  <thead>\n",
              "    <tr style=\"text-align: right;\">\n",
              "      <th></th>\n",
              "      <th>ADDRESS</th>\n",
              "      <th>publishDate</th>\n",
              "      <th>price</th>\n",
              "      <th>numBedrooms</th>\n",
              "      <th>numBathrooms</th>\n",
              "      <th>propertyType</th>\n",
              "      <th>propertySize</th>\n",
              "      <th>longitude</th>\n",
              "      <th>latitude</th>\n",
              "    </tr>\n",
              "  </thead>\n",
              "  <tbody>\n",
              "    <tr>\n",
              "      <th>113</th>\n",
              "      <td>Dungarvan, Co. Waterford, Ireland</td>\n",
              "      <td>2022-01-24</td>\n",
              "      <td>650000</td>\n",
              "      <td>13</td>\n",
              "      <td>13</td>\n",
              "      <td>Detached</td>\n",
              "      <td>557.0</td>\n",
              "      <td>-7.620363</td>\n",
              "      <td>52.093676</td>\n",
              "    </tr>\n",
              "    <tr>\n",
              "      <th>394</th>\n",
              "      <td>Kilmore Lower, Co. Cavan, Ireland</td>\n",
              "      <td>2022-01-28</td>\n",
              "      <td>900000</td>\n",
              "      <td>16</td>\n",
              "      <td>4</td>\n",
              "      <td>Detached</td>\n",
              "      <td>67.0</td>\n",
              "      <td>-7.423140</td>\n",
              "      <td>53.989965</td>\n",
              "    </tr>\n",
              "    <tr>\n",
              "      <th>404</th>\n",
              "      <td>1 Gulladoo Village, Cornaferst, Carrigallen, C...</td>\n",
              "      <td>2022-01-28</td>\n",
              "      <td>695000</td>\n",
              "      <td>16</td>\n",
              "      <td>10</td>\n",
              "      <td>Detached</td>\n",
              "      <td>648.0</td>\n",
              "      <td>-7.628445</td>\n",
              "      <td>53.946525</td>\n",
              "    </tr>\n",
              "    <tr>\n",
              "      <th>3070</th>\n",
              "      <td>Firmount House, Firmount Demesne, Clane, Co. K...</td>\n",
              "      <td>2022-01-30</td>\n",
              "      <td>1600000</td>\n",
              "      <td>14</td>\n",
              "      <td>9</td>\n",
              "      <td>Detached</td>\n",
              "      <td>1208.0</td>\n",
              "      <td>-6.709118</td>\n",
              "      <td>53.280750</td>\n",
              "    </tr>\n",
              "    <tr>\n",
              "      <th>3143</th>\n",
              "      <td>Lake Road, Eightercua, Waterville, Co. Kerry, ...</td>\n",
              "      <td>2022-01-11</td>\n",
              "      <td>795000</td>\n",
              "      <td>12</td>\n",
              "      <td>13</td>\n",
              "      <td>Detached</td>\n",
              "      <td>641.0</td>\n",
              "      <td>-10.143460</td>\n",
              "      <td>51.815346</td>\n",
              "    </tr>\n",
              "  </tbody>\n",
              "</table>\n",
              "</div>\n",
              "      <button class=\"colab-df-convert\" onclick=\"convertToInteractive('df-fc8b02c1-608c-4b1f-aaca-ec1101ec46d1')\"\n",
              "              title=\"Convert this dataframe to an interactive table.\"\n",
              "              style=\"display:none;\">\n",
              "        \n",
              "  <svg xmlns=\"http://www.w3.org/2000/svg\" height=\"24px\"viewBox=\"0 0 24 24\"\n",
              "       width=\"24px\">\n",
              "    <path d=\"M0 0h24v24H0V0z\" fill=\"none\"/>\n",
              "    <path d=\"M18.56 5.44l.94 2.06.94-2.06 2.06-.94-2.06-.94-.94-2.06-.94 2.06-2.06.94zm-11 1L8.5 8.5l.94-2.06 2.06-.94-2.06-.94L8.5 2.5l-.94 2.06-2.06.94zm10 10l.94 2.06.94-2.06 2.06-.94-2.06-.94-.94-2.06-.94 2.06-2.06.94z\"/><path d=\"M17.41 7.96l-1.37-1.37c-.4-.4-.92-.59-1.43-.59-.52 0-1.04.2-1.43.59L10.3 9.45l-7.72 7.72c-.78.78-.78 2.05 0 2.83L4 21.41c.39.39.9.59 1.41.59.51 0 1.02-.2 1.41-.59l7.78-7.78 2.81-2.81c.8-.78.8-2.07 0-2.86zM5.41 20L4 18.59l7.72-7.72 1.47 1.35L5.41 20z\"/>\n",
              "  </svg>\n",
              "      </button>\n",
              "      \n",
              "  <style>\n",
              "    .colab-df-container {\n",
              "      display:flex;\n",
              "      flex-wrap:wrap;\n",
              "      gap: 12px;\n",
              "    }\n",
              "\n",
              "    .colab-df-convert {\n",
              "      background-color: #E8F0FE;\n",
              "      border: none;\n",
              "      border-radius: 50%;\n",
              "      cursor: pointer;\n",
              "      display: none;\n",
              "      fill: #1967D2;\n",
              "      height: 32px;\n",
              "      padding: 0 0 0 0;\n",
              "      width: 32px;\n",
              "    }\n",
              "\n",
              "    .colab-df-convert:hover {\n",
              "      background-color: #E2EBFA;\n",
              "      box-shadow: 0px 1px 2px rgba(60, 64, 67, 0.3), 0px 1px 3px 1px rgba(60, 64, 67, 0.15);\n",
              "      fill: #174EA6;\n",
              "    }\n",
              "\n",
              "    [theme=dark] .colab-df-convert {\n",
              "      background-color: #3B4455;\n",
              "      fill: #D2E3FC;\n",
              "    }\n",
              "\n",
              "    [theme=dark] .colab-df-convert:hover {\n",
              "      background-color: #434B5C;\n",
              "      box-shadow: 0px 1px 3px 1px rgba(0, 0, 0, 0.15);\n",
              "      filter: drop-shadow(0px 1px 2px rgba(0, 0, 0, 0.3));\n",
              "      fill: #FFFFFF;\n",
              "    }\n",
              "  </style>\n",
              "\n",
              "      <script>\n",
              "        const buttonEl =\n",
              "          document.querySelector('#df-fc8b02c1-608c-4b1f-aaca-ec1101ec46d1 button.colab-df-convert');\n",
              "        buttonEl.style.display =\n",
              "          google.colab.kernel.accessAllowed ? 'block' : 'none';\n",
              "\n",
              "        async function convertToInteractive(key) {\n",
              "          const element = document.querySelector('#df-fc8b02c1-608c-4b1f-aaca-ec1101ec46d1');\n",
              "          const dataTable =\n",
              "            await google.colab.kernel.invokeFunction('convertToInteractive',\n",
              "                                                     [key], {});\n",
              "          if (!dataTable) return;\n",
              "\n",
              "          const docLinkHtml = 'Like what you see? Visit the ' +\n",
              "            '<a target=\"_blank\" href=https://colab.research.google.com/notebooks/data_table.ipynb>data table notebook</a>'\n",
              "            + ' to learn more about interactive tables.';\n",
              "          element.innerHTML = '';\n",
              "          dataTable['output_type'] = 'display_data';\n",
              "          await google.colab.output.renderOutput(dataTable, element);\n",
              "          const docLink = document.createElement('div');\n",
              "          docLink.innerHTML = docLinkHtml;\n",
              "          element.appendChild(docLink);\n",
              "        }\n",
              "      </script>\n",
              "    </div>\n",
              "  </div>\n",
              "  "
            ]
          },
          "metadata": {},
          "execution_count": 175
        }
      ]
    },
    {
      "cell_type": "markdown",
      "source": [
        "We can find the description of that property on <a href=\"https://www.daft.ie/for-sale/detached-house-kilmore-lower-cavan-co-cavan/3619102\">(Daft.ie, 2022)</a>. According to the description it has approximately 16.5 acres which are 66773.19m². It does not say what is the size of the living area. We can also search for this property on Google Earth and try to take an estimated area. "
      ],
      "metadata": {
        "id": "Bj8yKI_XQycG"
      }
    },
    {
      "cell_type": "markdown",
      "source": [
        "<img src='https://github.com/raulFuzita/cct-4-year/blob/psi-final-project/misc/images/property.png?raw=true' alt='Property address: Kilmore Lower, Cavan, Co. Cavan'/>"
      ],
      "metadata": {
        "id": "J8vNh2GqUF1L"
      }
    },
    {
      "cell_type": "markdown",
      "source": [
        "In the image above we can see, that there is another built area at the back of the house. The estimated area for the house is approximately 185m² and a perimeter approximately of 59. It is not clear if it is meant to be 66773.19m² from 16.5 acres or if it is the sum of the house perimeter and what looks like a shed in the back.\n",
        "\n",
        "Either way, the data is inconclusive, so the best way is to remove it."
      ],
      "metadata": {
        "id": "u89hf-TlUYg5"
      }
    },
    {
      "cell_type": "code",
      "source": [
        "df[df.index == 404] = np.nan\n",
        "df.dropna(inplace=True)\n",
        "df[df['numBedrooms'] > 10]"
      ],
      "metadata": {
        "colab": {
          "base_uri": "https://localhost:8080/",
          "height": 175
        },
        "id": "vCtAvQSV2RnA",
        "outputId": "7ddca185-3157-4e45-93ee-94da189b911a"
      },
      "execution_count": 176,
      "outputs": [
        {
          "output_type": "execute_result",
          "data": {
            "text/plain": [
              "                                                ADDRESS publishDate  \\\n",
              "113                   Dungarvan, Co. Waterford, Ireland  2022-01-24   \n",
              "394                   Kilmore Lower, Co. Cavan, Ireland  2022-01-28   \n",
              "3070  Firmount House, Firmount Demesne, Clane, Co. K...  2022-01-30   \n",
              "3143  Lake Road, Eightercua, Waterville, Co. Kerry, ...  2022-01-11   \n",
              "\n",
              "          price  numBedrooms  numBathrooms propertyType  propertySize  \\\n",
              "113    650000.0         13.0          13.0     Detached         557.0   \n",
              "394    900000.0         16.0           4.0     Detached          67.0   \n",
              "3070  1600000.0         14.0           9.0     Detached        1208.0   \n",
              "3143   795000.0         12.0          13.0     Detached         641.0   \n",
              "\n",
              "      longitude   latitude  \n",
              "113   -7.620363  52.093676  \n",
              "394   -7.423140  53.989965  \n",
              "3070  -6.709118  53.280750  \n",
              "3143 -10.143460  51.815346  "
            ],
            "text/html": [
              "\n",
              "  <div id=\"df-42fef799-3ef6-4d53-8c7b-b5d3e4d218c7\">\n",
              "    <div class=\"colab-df-container\">\n",
              "      <div>\n",
              "<style scoped>\n",
              "    .dataframe tbody tr th:only-of-type {\n",
              "        vertical-align: middle;\n",
              "    }\n",
              "\n",
              "    .dataframe tbody tr th {\n",
              "        vertical-align: top;\n",
              "    }\n",
              "\n",
              "    .dataframe thead th {\n",
              "        text-align: right;\n",
              "    }\n",
              "</style>\n",
              "<table border=\"1\" class=\"dataframe\">\n",
              "  <thead>\n",
              "    <tr style=\"text-align: right;\">\n",
              "      <th></th>\n",
              "      <th>ADDRESS</th>\n",
              "      <th>publishDate</th>\n",
              "      <th>price</th>\n",
              "      <th>numBedrooms</th>\n",
              "      <th>numBathrooms</th>\n",
              "      <th>propertyType</th>\n",
              "      <th>propertySize</th>\n",
              "      <th>longitude</th>\n",
              "      <th>latitude</th>\n",
              "    </tr>\n",
              "  </thead>\n",
              "  <tbody>\n",
              "    <tr>\n",
              "      <th>113</th>\n",
              "      <td>Dungarvan, Co. Waterford, Ireland</td>\n",
              "      <td>2022-01-24</td>\n",
              "      <td>650000.0</td>\n",
              "      <td>13.0</td>\n",
              "      <td>13.0</td>\n",
              "      <td>Detached</td>\n",
              "      <td>557.0</td>\n",
              "      <td>-7.620363</td>\n",
              "      <td>52.093676</td>\n",
              "    </tr>\n",
              "    <tr>\n",
              "      <th>394</th>\n",
              "      <td>Kilmore Lower, Co. Cavan, Ireland</td>\n",
              "      <td>2022-01-28</td>\n",
              "      <td>900000.0</td>\n",
              "      <td>16.0</td>\n",
              "      <td>4.0</td>\n",
              "      <td>Detached</td>\n",
              "      <td>67.0</td>\n",
              "      <td>-7.423140</td>\n",
              "      <td>53.989965</td>\n",
              "    </tr>\n",
              "    <tr>\n",
              "      <th>3070</th>\n",
              "      <td>Firmount House, Firmount Demesne, Clane, Co. K...</td>\n",
              "      <td>2022-01-30</td>\n",
              "      <td>1600000.0</td>\n",
              "      <td>14.0</td>\n",
              "      <td>9.0</td>\n",
              "      <td>Detached</td>\n",
              "      <td>1208.0</td>\n",
              "      <td>-6.709118</td>\n",
              "      <td>53.280750</td>\n",
              "    </tr>\n",
              "    <tr>\n",
              "      <th>3143</th>\n",
              "      <td>Lake Road, Eightercua, Waterville, Co. Kerry, ...</td>\n",
              "      <td>2022-01-11</td>\n",
              "      <td>795000.0</td>\n",
              "      <td>12.0</td>\n",
              "      <td>13.0</td>\n",
              "      <td>Detached</td>\n",
              "      <td>641.0</td>\n",
              "      <td>-10.143460</td>\n",
              "      <td>51.815346</td>\n",
              "    </tr>\n",
              "  </tbody>\n",
              "</table>\n",
              "</div>\n",
              "      <button class=\"colab-df-convert\" onclick=\"convertToInteractive('df-42fef799-3ef6-4d53-8c7b-b5d3e4d218c7')\"\n",
              "              title=\"Convert this dataframe to an interactive table.\"\n",
              "              style=\"display:none;\">\n",
              "        \n",
              "  <svg xmlns=\"http://www.w3.org/2000/svg\" height=\"24px\"viewBox=\"0 0 24 24\"\n",
              "       width=\"24px\">\n",
              "    <path d=\"M0 0h24v24H0V0z\" fill=\"none\"/>\n",
              "    <path d=\"M18.56 5.44l.94 2.06.94-2.06 2.06-.94-2.06-.94-.94-2.06-.94 2.06-2.06.94zm-11 1L8.5 8.5l.94-2.06 2.06-.94-2.06-.94L8.5 2.5l-.94 2.06-2.06.94zm10 10l.94 2.06.94-2.06 2.06-.94-2.06-.94-.94-2.06-.94 2.06-2.06.94z\"/><path d=\"M17.41 7.96l-1.37-1.37c-.4-.4-.92-.59-1.43-.59-.52 0-1.04.2-1.43.59L10.3 9.45l-7.72 7.72c-.78.78-.78 2.05 0 2.83L4 21.41c.39.39.9.59 1.41.59.51 0 1.02-.2 1.41-.59l7.78-7.78 2.81-2.81c.8-.78.8-2.07 0-2.86zM5.41 20L4 18.59l7.72-7.72 1.47 1.35L5.41 20z\"/>\n",
              "  </svg>\n",
              "      </button>\n",
              "      \n",
              "  <style>\n",
              "    .colab-df-container {\n",
              "      display:flex;\n",
              "      flex-wrap:wrap;\n",
              "      gap: 12px;\n",
              "    }\n",
              "\n",
              "    .colab-df-convert {\n",
              "      background-color: #E8F0FE;\n",
              "      border: none;\n",
              "      border-radius: 50%;\n",
              "      cursor: pointer;\n",
              "      display: none;\n",
              "      fill: #1967D2;\n",
              "      height: 32px;\n",
              "      padding: 0 0 0 0;\n",
              "      width: 32px;\n",
              "    }\n",
              "\n",
              "    .colab-df-convert:hover {\n",
              "      background-color: #E2EBFA;\n",
              "      box-shadow: 0px 1px 2px rgba(60, 64, 67, 0.3), 0px 1px 3px 1px rgba(60, 64, 67, 0.15);\n",
              "      fill: #174EA6;\n",
              "    }\n",
              "\n",
              "    [theme=dark] .colab-df-convert {\n",
              "      background-color: #3B4455;\n",
              "      fill: #D2E3FC;\n",
              "    }\n",
              "\n",
              "    [theme=dark] .colab-df-convert:hover {\n",
              "      background-color: #434B5C;\n",
              "      box-shadow: 0px 1px 3px 1px rgba(0, 0, 0, 0.15);\n",
              "      filter: drop-shadow(0px 1px 2px rgba(0, 0, 0, 0.3));\n",
              "      fill: #FFFFFF;\n",
              "    }\n",
              "  </style>\n",
              "\n",
              "      <script>\n",
              "        const buttonEl =\n",
              "          document.querySelector('#df-42fef799-3ef6-4d53-8c7b-b5d3e4d218c7 button.colab-df-convert');\n",
              "        buttonEl.style.display =\n",
              "          google.colab.kernel.accessAllowed ? 'block' : 'none';\n",
              "\n",
              "        async function convertToInteractive(key) {\n",
              "          const element = document.querySelector('#df-42fef799-3ef6-4d53-8c7b-b5d3e4d218c7');\n",
              "          const dataTable =\n",
              "            await google.colab.kernel.invokeFunction('convertToInteractive',\n",
              "                                                     [key], {});\n",
              "          if (!dataTable) return;\n",
              "\n",
              "          const docLinkHtml = 'Like what you see? Visit the ' +\n",
              "            '<a target=\"_blank\" href=https://colab.research.google.com/notebooks/data_table.ipynb>data table notebook</a>'\n",
              "            + ' to learn more about interactive tables.';\n",
              "          element.innerHTML = '';\n",
              "          dataTable['output_type'] = 'display_data';\n",
              "          await google.colab.output.renderOutput(dataTable, element);\n",
              "          const docLink = document.createElement('div');\n",
              "          docLink.innerHTML = docLinkHtml;\n",
              "          element.appendChild(docLink);\n",
              "        }\n",
              "      </script>\n",
              "    </div>\n",
              "  </div>\n",
              "  "
            ]
          },
          "metadata": {},
          "execution_count": 176
        }
      ]
    },
    {
      "cell_type": "markdown",
      "source": [
        "## Preparing Dataset"
      ],
      "metadata": {
        "id": "fRC93RMfXijo"
      }
    },
    {
      "cell_type": "markdown",
      "source": [
        "### Categorical Data"
      ],
      "metadata": {
        "id": "pNi6bgLSL4xr"
      }
    },
    {
      "cell_type": "markdown",
      "source": [
        "An important consideration to take is how we handle categorical data. To train a regression model we have to encode categorical data into a numerical representation. See the values of property type attribute."
      ],
      "metadata": {
        "id": "MRnWPtcCMsyx"
      }
    },
    {
      "cell_type": "code",
      "source": [
        "print('Property Type:', df['propertyType'].unique())"
      ],
      "metadata": {
        "colab": {
          "base_uri": "https://localhost:8080/"
        },
        "id": "Z-eYQBPJ-AcN",
        "outputId": "2f7b0a6b-dc41-44a1-c16b-7436b57edf4a"
      },
      "execution_count": 177,
      "outputs": [
        {
          "output_type": "stream",
          "name": "stdout",
          "text": [
            "Property Type: ['End of Terrace' 'Semi-D' 'Terrace' 'Detached' 'Apartment' 'Bungalow'\n",
            " 'Townhouse' 'Duplex' 'Site' 'Studio' 'House']\n"
          ]
        }
      ]
    },
    {
      "cell_type": "markdown",
      "source": [
        "We will create a new attribute called encoded_propertyType to store the encoded values from attribuet property type."
      ],
      "metadata": {
        "id": "nInhzQBAOJso"
      }
    },
    {
      "cell_type": "code",
      "source": [
        "le = LabelEncoder()\n",
        "\n",
        "df['encoded_propertyType'] = le.fit_transform(df['propertyType'])\n",
        "print('Property Type:', df['propertyType'].unique())\n",
        "print('Encoded Type:', df['encoded_propertyType'].unique())"
      ],
      "metadata": {
        "id": "yYH3G0pQ-CRr",
        "colab": {
          "base_uri": "https://localhost:8080/"
        },
        "outputId": "0012768f-a2f3-4bb1-80b6-790af77012bf"
      },
      "execution_count": 178,
      "outputs": [
        {
          "output_type": "stream",
          "name": "stdout",
          "text": [
            "Property Type: ['End of Terrace' 'Semi-D' 'Terrace' 'Detached' 'Apartment' 'Bungalow'\n",
            " 'Townhouse' 'Duplex' 'Site' 'Studio' 'House']\n",
            "Encoded Type: [ 4  6  9  2  0  1 10  3  7  8  5]\n"
          ]
        }
      ]
    },
    {
      "cell_type": "code",
      "source": [
        "df.head()"
      ],
      "metadata": {
        "colab": {
          "base_uri": "https://localhost:8080/",
          "height": 320
        },
        "id": "F9UA-ZsQ-E9z",
        "outputId": "da159b07-f6f9-4d03-d8db-47b1d1ce6fb1"
      },
      "execution_count": 179,
      "outputs": [
        {
          "output_type": "execute_result",
          "data": {
            "text/plain": [
              "                                             ADDRESS publishDate     price  \\\n",
              "0  11 Chestnut Cres, Bridgemount, Carrigaline, Co...  2022-01-28  290000.0   \n",
              "1  58 The Glen, Bracklone, Portarlington, Co. Lao...  2022-01-28  225000.0   \n",
              "2  16 Dodderbrook Ave., Oldcourt, Dublin, D24 E2Y...  2022-01-27  575000.0   \n",
              "4  5 St Columbas Terrace, Kilballivor, Ballivor, ...  2022-01-28  120000.0   \n",
              "5  75 The Lawn, Coolroe Meadows, Ballincollig, Co...  2022-01-30  400000.0   \n",
              "\n",
              "   numBedrooms  numBathrooms    propertyType  propertySize  longitude  \\\n",
              "0          3.0           3.0  End of Terrace          96.0  -8.382505   \n",
              "1          3.0           2.0          Semi-D          93.0  -7.180640   \n",
              "2          4.0           3.0          Semi-D         162.0  -6.342353   \n",
              "4          3.0           1.0         Terrace          68.0  -6.964963   \n",
              "5          4.0           3.0          Semi-D         113.0  -8.614790   \n",
              "\n",
              "    latitude  encoded_propertyType  \n",
              "0  51.822938                     4  \n",
              "1  53.156985                     6  \n",
              "2  53.269333                     6  \n",
              "4  53.531063                     9  \n",
              "5  51.883611                     6  "
            ],
            "text/html": [
              "\n",
              "  <div id=\"df-0347c51e-fb05-4e38-972b-829a38a504a2\">\n",
              "    <div class=\"colab-df-container\">\n",
              "      <div>\n",
              "<style scoped>\n",
              "    .dataframe tbody tr th:only-of-type {\n",
              "        vertical-align: middle;\n",
              "    }\n",
              "\n",
              "    .dataframe tbody tr th {\n",
              "        vertical-align: top;\n",
              "    }\n",
              "\n",
              "    .dataframe thead th {\n",
              "        text-align: right;\n",
              "    }\n",
              "</style>\n",
              "<table border=\"1\" class=\"dataframe\">\n",
              "  <thead>\n",
              "    <tr style=\"text-align: right;\">\n",
              "      <th></th>\n",
              "      <th>ADDRESS</th>\n",
              "      <th>publishDate</th>\n",
              "      <th>price</th>\n",
              "      <th>numBedrooms</th>\n",
              "      <th>numBathrooms</th>\n",
              "      <th>propertyType</th>\n",
              "      <th>propertySize</th>\n",
              "      <th>longitude</th>\n",
              "      <th>latitude</th>\n",
              "      <th>encoded_propertyType</th>\n",
              "    </tr>\n",
              "  </thead>\n",
              "  <tbody>\n",
              "    <tr>\n",
              "      <th>0</th>\n",
              "      <td>11 Chestnut Cres, Bridgemount, Carrigaline, Co...</td>\n",
              "      <td>2022-01-28</td>\n",
              "      <td>290000.0</td>\n",
              "      <td>3.0</td>\n",
              "      <td>3.0</td>\n",
              "      <td>End of Terrace</td>\n",
              "      <td>96.0</td>\n",
              "      <td>-8.382505</td>\n",
              "      <td>51.822938</td>\n",
              "      <td>4</td>\n",
              "    </tr>\n",
              "    <tr>\n",
              "      <th>1</th>\n",
              "      <td>58 The Glen, Bracklone, Portarlington, Co. Lao...</td>\n",
              "      <td>2022-01-28</td>\n",
              "      <td>225000.0</td>\n",
              "      <td>3.0</td>\n",
              "      <td>2.0</td>\n",
              "      <td>Semi-D</td>\n",
              "      <td>93.0</td>\n",
              "      <td>-7.180640</td>\n",
              "      <td>53.156985</td>\n",
              "      <td>6</td>\n",
              "    </tr>\n",
              "    <tr>\n",
              "      <th>2</th>\n",
              "      <td>16 Dodderbrook Ave., Oldcourt, Dublin, D24 E2Y...</td>\n",
              "      <td>2022-01-27</td>\n",
              "      <td>575000.0</td>\n",
              "      <td>4.0</td>\n",
              "      <td>3.0</td>\n",
              "      <td>Semi-D</td>\n",
              "      <td>162.0</td>\n",
              "      <td>-6.342353</td>\n",
              "      <td>53.269333</td>\n",
              "      <td>6</td>\n",
              "    </tr>\n",
              "    <tr>\n",
              "      <th>4</th>\n",
              "      <td>5 St Columbas Terrace, Kilballivor, Ballivor, ...</td>\n",
              "      <td>2022-01-28</td>\n",
              "      <td>120000.0</td>\n",
              "      <td>3.0</td>\n",
              "      <td>1.0</td>\n",
              "      <td>Terrace</td>\n",
              "      <td>68.0</td>\n",
              "      <td>-6.964963</td>\n",
              "      <td>53.531063</td>\n",
              "      <td>9</td>\n",
              "    </tr>\n",
              "    <tr>\n",
              "      <th>5</th>\n",
              "      <td>75 The Lawn, Coolroe Meadows, Ballincollig, Co...</td>\n",
              "      <td>2022-01-30</td>\n",
              "      <td>400000.0</td>\n",
              "      <td>4.0</td>\n",
              "      <td>3.0</td>\n",
              "      <td>Semi-D</td>\n",
              "      <td>113.0</td>\n",
              "      <td>-8.614790</td>\n",
              "      <td>51.883611</td>\n",
              "      <td>6</td>\n",
              "    </tr>\n",
              "  </tbody>\n",
              "</table>\n",
              "</div>\n",
              "      <button class=\"colab-df-convert\" onclick=\"convertToInteractive('df-0347c51e-fb05-4e38-972b-829a38a504a2')\"\n",
              "              title=\"Convert this dataframe to an interactive table.\"\n",
              "              style=\"display:none;\">\n",
              "        \n",
              "  <svg xmlns=\"http://www.w3.org/2000/svg\" height=\"24px\"viewBox=\"0 0 24 24\"\n",
              "       width=\"24px\">\n",
              "    <path d=\"M0 0h24v24H0V0z\" fill=\"none\"/>\n",
              "    <path d=\"M18.56 5.44l.94 2.06.94-2.06 2.06-.94-2.06-.94-.94-2.06-.94 2.06-2.06.94zm-11 1L8.5 8.5l.94-2.06 2.06-.94-2.06-.94L8.5 2.5l-.94 2.06-2.06.94zm10 10l.94 2.06.94-2.06 2.06-.94-2.06-.94-.94-2.06-.94 2.06-2.06.94z\"/><path d=\"M17.41 7.96l-1.37-1.37c-.4-.4-.92-.59-1.43-.59-.52 0-1.04.2-1.43.59L10.3 9.45l-7.72 7.72c-.78.78-.78 2.05 0 2.83L4 21.41c.39.39.9.59 1.41.59.51 0 1.02-.2 1.41-.59l7.78-7.78 2.81-2.81c.8-.78.8-2.07 0-2.86zM5.41 20L4 18.59l7.72-7.72 1.47 1.35L5.41 20z\"/>\n",
              "  </svg>\n",
              "      </button>\n",
              "      \n",
              "  <style>\n",
              "    .colab-df-container {\n",
              "      display:flex;\n",
              "      flex-wrap:wrap;\n",
              "      gap: 12px;\n",
              "    }\n",
              "\n",
              "    .colab-df-convert {\n",
              "      background-color: #E8F0FE;\n",
              "      border: none;\n",
              "      border-radius: 50%;\n",
              "      cursor: pointer;\n",
              "      display: none;\n",
              "      fill: #1967D2;\n",
              "      height: 32px;\n",
              "      padding: 0 0 0 0;\n",
              "      width: 32px;\n",
              "    }\n",
              "\n",
              "    .colab-df-convert:hover {\n",
              "      background-color: #E2EBFA;\n",
              "      box-shadow: 0px 1px 2px rgba(60, 64, 67, 0.3), 0px 1px 3px 1px rgba(60, 64, 67, 0.15);\n",
              "      fill: #174EA6;\n",
              "    }\n",
              "\n",
              "    [theme=dark] .colab-df-convert {\n",
              "      background-color: #3B4455;\n",
              "      fill: #D2E3FC;\n",
              "    }\n",
              "\n",
              "    [theme=dark] .colab-df-convert:hover {\n",
              "      background-color: #434B5C;\n",
              "      box-shadow: 0px 1px 3px 1px rgba(0, 0, 0, 0.15);\n",
              "      filter: drop-shadow(0px 1px 2px rgba(0, 0, 0, 0.3));\n",
              "      fill: #FFFFFF;\n",
              "    }\n",
              "  </style>\n",
              "\n",
              "      <script>\n",
              "        const buttonEl =\n",
              "          document.querySelector('#df-0347c51e-fb05-4e38-972b-829a38a504a2 button.colab-df-convert');\n",
              "        buttonEl.style.display =\n",
              "          google.colab.kernel.accessAllowed ? 'block' : 'none';\n",
              "\n",
              "        async function convertToInteractive(key) {\n",
              "          const element = document.querySelector('#df-0347c51e-fb05-4e38-972b-829a38a504a2');\n",
              "          const dataTable =\n",
              "            await google.colab.kernel.invokeFunction('convertToInteractive',\n",
              "                                                     [key], {});\n",
              "          if (!dataTable) return;\n",
              "\n",
              "          const docLinkHtml = 'Like what you see? Visit the ' +\n",
              "            '<a target=\"_blank\" href=https://colab.research.google.com/notebooks/data_table.ipynb>data table notebook</a>'\n",
              "            + ' to learn more about interactive tables.';\n",
              "          element.innerHTML = '';\n",
              "          dataTable['output_type'] = 'display_data';\n",
              "          await google.colab.output.renderOutput(dataTable, element);\n",
              "          const docLink = document.createElement('div');\n",
              "          docLink.innerHTML = docLinkHtml;\n",
              "          element.appendChild(docLink);\n",
              "        }\n",
              "      </script>\n",
              "    </div>\n",
              "  </div>\n",
              "  "
            ]
          },
          "metadata": {},
          "execution_count": 179
        }
      ]
    },
    {
      "cell_type": "markdown",
      "source": [
        "Publish date attribute is also categorical data, although numbers represent it. We will handle publish dates differently in this case. We can convert them to ordinal date. The result of the conversion will be stored in the ordinal_date attribute."
      ],
      "metadata": {
        "id": "LUimClQuPdC7"
      }
    },
    {
      "cell_type": "code",
      "source": [
        "df['ordinal_date'] = pd.to_datetime(df['publishDate'])\n",
        "df['ordinal_date']=df['ordinal_date'].map(dt.datetime.toordinal)\n",
        "df.head()"
      ],
      "metadata": {
        "colab": {
          "base_uri": "https://localhost:8080/",
          "height": 354
        },
        "id": "CTJCeb81-Gh7",
        "outputId": "de0d1666-2356-45fd-a9a6-14ec6c7840ea"
      },
      "execution_count": 180,
      "outputs": [
        {
          "output_type": "execute_result",
          "data": {
            "text/plain": [
              "                                             ADDRESS publishDate     price  \\\n",
              "0  11 Chestnut Cres, Bridgemount, Carrigaline, Co...  2022-01-28  290000.0   \n",
              "1  58 The Glen, Bracklone, Portarlington, Co. Lao...  2022-01-28  225000.0   \n",
              "2  16 Dodderbrook Ave., Oldcourt, Dublin, D24 E2Y...  2022-01-27  575000.0   \n",
              "4  5 St Columbas Terrace, Kilballivor, Ballivor, ...  2022-01-28  120000.0   \n",
              "5  75 The Lawn, Coolroe Meadows, Ballincollig, Co...  2022-01-30  400000.0   \n",
              "\n",
              "   numBedrooms  numBathrooms    propertyType  propertySize  longitude  \\\n",
              "0          3.0           3.0  End of Terrace          96.0  -8.382505   \n",
              "1          3.0           2.0          Semi-D          93.0  -7.180640   \n",
              "2          4.0           3.0          Semi-D         162.0  -6.342353   \n",
              "4          3.0           1.0         Terrace          68.0  -6.964963   \n",
              "5          4.0           3.0          Semi-D         113.0  -8.614790   \n",
              "\n",
              "    latitude  encoded_propertyType  ordinal_date  \n",
              "0  51.822938                     4        738183  \n",
              "1  53.156985                     6        738183  \n",
              "2  53.269333                     6        738182  \n",
              "4  53.531063                     9        738183  \n",
              "5  51.883611                     6        738185  "
            ],
            "text/html": [
              "\n",
              "  <div id=\"df-dcec7f43-e942-4671-bb48-ef233d1e139a\">\n",
              "    <div class=\"colab-df-container\">\n",
              "      <div>\n",
              "<style scoped>\n",
              "    .dataframe tbody tr th:only-of-type {\n",
              "        vertical-align: middle;\n",
              "    }\n",
              "\n",
              "    .dataframe tbody tr th {\n",
              "        vertical-align: top;\n",
              "    }\n",
              "\n",
              "    .dataframe thead th {\n",
              "        text-align: right;\n",
              "    }\n",
              "</style>\n",
              "<table border=\"1\" class=\"dataframe\">\n",
              "  <thead>\n",
              "    <tr style=\"text-align: right;\">\n",
              "      <th></th>\n",
              "      <th>ADDRESS</th>\n",
              "      <th>publishDate</th>\n",
              "      <th>price</th>\n",
              "      <th>numBedrooms</th>\n",
              "      <th>numBathrooms</th>\n",
              "      <th>propertyType</th>\n",
              "      <th>propertySize</th>\n",
              "      <th>longitude</th>\n",
              "      <th>latitude</th>\n",
              "      <th>encoded_propertyType</th>\n",
              "      <th>ordinal_date</th>\n",
              "    </tr>\n",
              "  </thead>\n",
              "  <tbody>\n",
              "    <tr>\n",
              "      <th>0</th>\n",
              "      <td>11 Chestnut Cres, Bridgemount, Carrigaline, Co...</td>\n",
              "      <td>2022-01-28</td>\n",
              "      <td>290000.0</td>\n",
              "      <td>3.0</td>\n",
              "      <td>3.0</td>\n",
              "      <td>End of Terrace</td>\n",
              "      <td>96.0</td>\n",
              "      <td>-8.382505</td>\n",
              "      <td>51.822938</td>\n",
              "      <td>4</td>\n",
              "      <td>738183</td>\n",
              "    </tr>\n",
              "    <tr>\n",
              "      <th>1</th>\n",
              "      <td>58 The Glen, Bracklone, Portarlington, Co. Lao...</td>\n",
              "      <td>2022-01-28</td>\n",
              "      <td>225000.0</td>\n",
              "      <td>3.0</td>\n",
              "      <td>2.0</td>\n",
              "      <td>Semi-D</td>\n",
              "      <td>93.0</td>\n",
              "      <td>-7.180640</td>\n",
              "      <td>53.156985</td>\n",
              "      <td>6</td>\n",
              "      <td>738183</td>\n",
              "    </tr>\n",
              "    <tr>\n",
              "      <th>2</th>\n",
              "      <td>16 Dodderbrook Ave., Oldcourt, Dublin, D24 E2Y...</td>\n",
              "      <td>2022-01-27</td>\n",
              "      <td>575000.0</td>\n",
              "      <td>4.0</td>\n",
              "      <td>3.0</td>\n",
              "      <td>Semi-D</td>\n",
              "      <td>162.0</td>\n",
              "      <td>-6.342353</td>\n",
              "      <td>53.269333</td>\n",
              "      <td>6</td>\n",
              "      <td>738182</td>\n",
              "    </tr>\n",
              "    <tr>\n",
              "      <th>4</th>\n",
              "      <td>5 St Columbas Terrace, Kilballivor, Ballivor, ...</td>\n",
              "      <td>2022-01-28</td>\n",
              "      <td>120000.0</td>\n",
              "      <td>3.0</td>\n",
              "      <td>1.0</td>\n",
              "      <td>Terrace</td>\n",
              "      <td>68.0</td>\n",
              "      <td>-6.964963</td>\n",
              "      <td>53.531063</td>\n",
              "      <td>9</td>\n",
              "      <td>738183</td>\n",
              "    </tr>\n",
              "    <tr>\n",
              "      <th>5</th>\n",
              "      <td>75 The Lawn, Coolroe Meadows, Ballincollig, Co...</td>\n",
              "      <td>2022-01-30</td>\n",
              "      <td>400000.0</td>\n",
              "      <td>4.0</td>\n",
              "      <td>3.0</td>\n",
              "      <td>Semi-D</td>\n",
              "      <td>113.0</td>\n",
              "      <td>-8.614790</td>\n",
              "      <td>51.883611</td>\n",
              "      <td>6</td>\n",
              "      <td>738185</td>\n",
              "    </tr>\n",
              "  </tbody>\n",
              "</table>\n",
              "</div>\n",
              "      <button class=\"colab-df-convert\" onclick=\"convertToInteractive('df-dcec7f43-e942-4671-bb48-ef233d1e139a')\"\n",
              "              title=\"Convert this dataframe to an interactive table.\"\n",
              "              style=\"display:none;\">\n",
              "        \n",
              "  <svg xmlns=\"http://www.w3.org/2000/svg\" height=\"24px\"viewBox=\"0 0 24 24\"\n",
              "       width=\"24px\">\n",
              "    <path d=\"M0 0h24v24H0V0z\" fill=\"none\"/>\n",
              "    <path d=\"M18.56 5.44l.94 2.06.94-2.06 2.06-.94-2.06-.94-.94-2.06-.94 2.06-2.06.94zm-11 1L8.5 8.5l.94-2.06 2.06-.94-2.06-.94L8.5 2.5l-.94 2.06-2.06.94zm10 10l.94 2.06.94-2.06 2.06-.94-2.06-.94-.94-2.06-.94 2.06-2.06.94z\"/><path d=\"M17.41 7.96l-1.37-1.37c-.4-.4-.92-.59-1.43-.59-.52 0-1.04.2-1.43.59L10.3 9.45l-7.72 7.72c-.78.78-.78 2.05 0 2.83L4 21.41c.39.39.9.59 1.41.59.51 0 1.02-.2 1.41-.59l7.78-7.78 2.81-2.81c.8-.78.8-2.07 0-2.86zM5.41 20L4 18.59l7.72-7.72 1.47 1.35L5.41 20z\"/>\n",
              "  </svg>\n",
              "      </button>\n",
              "      \n",
              "  <style>\n",
              "    .colab-df-container {\n",
              "      display:flex;\n",
              "      flex-wrap:wrap;\n",
              "      gap: 12px;\n",
              "    }\n",
              "\n",
              "    .colab-df-convert {\n",
              "      background-color: #E8F0FE;\n",
              "      border: none;\n",
              "      border-radius: 50%;\n",
              "      cursor: pointer;\n",
              "      display: none;\n",
              "      fill: #1967D2;\n",
              "      height: 32px;\n",
              "      padding: 0 0 0 0;\n",
              "      width: 32px;\n",
              "    }\n",
              "\n",
              "    .colab-df-convert:hover {\n",
              "      background-color: #E2EBFA;\n",
              "      box-shadow: 0px 1px 2px rgba(60, 64, 67, 0.3), 0px 1px 3px 1px rgba(60, 64, 67, 0.15);\n",
              "      fill: #174EA6;\n",
              "    }\n",
              "\n",
              "    [theme=dark] .colab-df-convert {\n",
              "      background-color: #3B4455;\n",
              "      fill: #D2E3FC;\n",
              "    }\n",
              "\n",
              "    [theme=dark] .colab-df-convert:hover {\n",
              "      background-color: #434B5C;\n",
              "      box-shadow: 0px 1px 3px 1px rgba(0, 0, 0, 0.15);\n",
              "      filter: drop-shadow(0px 1px 2px rgba(0, 0, 0, 0.3));\n",
              "      fill: #FFFFFF;\n",
              "    }\n",
              "  </style>\n",
              "\n",
              "      <script>\n",
              "        const buttonEl =\n",
              "          document.querySelector('#df-dcec7f43-e942-4671-bb48-ef233d1e139a button.colab-df-convert');\n",
              "        buttonEl.style.display =\n",
              "          google.colab.kernel.accessAllowed ? 'block' : 'none';\n",
              "\n",
              "        async function convertToInteractive(key) {\n",
              "          const element = document.querySelector('#df-dcec7f43-e942-4671-bb48-ef233d1e139a');\n",
              "          const dataTable =\n",
              "            await google.colab.kernel.invokeFunction('convertToInteractive',\n",
              "                                                     [key], {});\n",
              "          if (!dataTable) return;\n",
              "\n",
              "          const docLinkHtml = 'Like what you see? Visit the ' +\n",
              "            '<a target=\"_blank\" href=https://colab.research.google.com/notebooks/data_table.ipynb>data table notebook</a>'\n",
              "            + ' to learn more about interactive tables.';\n",
              "          element.innerHTML = '';\n",
              "          dataTable['output_type'] = 'display_data';\n",
              "          await google.colab.output.renderOutput(dataTable, element);\n",
              "          const docLink = document.createElement('div');\n",
              "          docLink.innerHTML = docLinkHtml;\n",
              "          element.appendChild(docLink);\n",
              "        }\n",
              "      </script>\n",
              "    </div>\n",
              "  </div>\n",
              "  "
            ]
          },
          "metadata": {},
          "execution_count": 180
        }
      ]
    },
    {
      "cell_type": "markdown",
      "source": [
        "Since train, a model requires many tests and replacements to help tune and find the best model for our prediction is good to have another column to represent only the year."
      ],
      "metadata": {
        "id": "VwzKRnLwQ9CQ"
      }
    },
    {
      "cell_type": "code",
      "source": [
        "df['year'] = pd.to_datetime(df['publishDate'])\n",
        "df['year'].values.astype('datetime64[Y]')\n",
        "df['year'] = pd.DatetimeIndex(df['year']).year\n",
        "df.head()"
      ],
      "metadata": {
        "colab": {
          "base_uri": "https://localhost:8080/",
          "height": 441
        },
        "id": "yfFiLi5F-If8",
        "outputId": "416fda69-29c3-4364-f222-006db705a953"
      },
      "execution_count": 181,
      "outputs": [
        {
          "output_type": "execute_result",
          "data": {
            "text/plain": [
              "                                             ADDRESS publishDate     price  \\\n",
              "0  11 Chestnut Cres, Bridgemount, Carrigaline, Co...  2022-01-28  290000.0   \n",
              "1  58 The Glen, Bracklone, Portarlington, Co. Lao...  2022-01-28  225000.0   \n",
              "2  16 Dodderbrook Ave., Oldcourt, Dublin, D24 E2Y...  2022-01-27  575000.0   \n",
              "4  5 St Columbas Terrace, Kilballivor, Ballivor, ...  2022-01-28  120000.0   \n",
              "5  75 The Lawn, Coolroe Meadows, Ballincollig, Co...  2022-01-30  400000.0   \n",
              "\n",
              "   numBedrooms  numBathrooms    propertyType  propertySize  longitude  \\\n",
              "0          3.0           3.0  End of Terrace          96.0  -8.382505   \n",
              "1          3.0           2.0          Semi-D          93.0  -7.180640   \n",
              "2          4.0           3.0          Semi-D         162.0  -6.342353   \n",
              "4          3.0           1.0         Terrace          68.0  -6.964963   \n",
              "5          4.0           3.0          Semi-D         113.0  -8.614790   \n",
              "\n",
              "    latitude  encoded_propertyType  ordinal_date  year  \n",
              "0  51.822938                     4        738183  2022  \n",
              "1  53.156985                     6        738183  2022  \n",
              "2  53.269333                     6        738182  2022  \n",
              "4  53.531063                     9        738183  2022  \n",
              "5  51.883611                     6        738185  2022  "
            ],
            "text/html": [
              "\n",
              "  <div id=\"df-f2b3f798-7a5f-4b8a-8bbc-0b420953faaa\">\n",
              "    <div class=\"colab-df-container\">\n",
              "      <div>\n",
              "<style scoped>\n",
              "    .dataframe tbody tr th:only-of-type {\n",
              "        vertical-align: middle;\n",
              "    }\n",
              "\n",
              "    .dataframe tbody tr th {\n",
              "        vertical-align: top;\n",
              "    }\n",
              "\n",
              "    .dataframe thead th {\n",
              "        text-align: right;\n",
              "    }\n",
              "</style>\n",
              "<table border=\"1\" class=\"dataframe\">\n",
              "  <thead>\n",
              "    <tr style=\"text-align: right;\">\n",
              "      <th></th>\n",
              "      <th>ADDRESS</th>\n",
              "      <th>publishDate</th>\n",
              "      <th>price</th>\n",
              "      <th>numBedrooms</th>\n",
              "      <th>numBathrooms</th>\n",
              "      <th>propertyType</th>\n",
              "      <th>propertySize</th>\n",
              "      <th>longitude</th>\n",
              "      <th>latitude</th>\n",
              "      <th>encoded_propertyType</th>\n",
              "      <th>ordinal_date</th>\n",
              "      <th>year</th>\n",
              "    </tr>\n",
              "  </thead>\n",
              "  <tbody>\n",
              "    <tr>\n",
              "      <th>0</th>\n",
              "      <td>11 Chestnut Cres, Bridgemount, Carrigaline, Co...</td>\n",
              "      <td>2022-01-28</td>\n",
              "      <td>290000.0</td>\n",
              "      <td>3.0</td>\n",
              "      <td>3.0</td>\n",
              "      <td>End of Terrace</td>\n",
              "      <td>96.0</td>\n",
              "      <td>-8.382505</td>\n",
              "      <td>51.822938</td>\n",
              "      <td>4</td>\n",
              "      <td>738183</td>\n",
              "      <td>2022</td>\n",
              "    </tr>\n",
              "    <tr>\n",
              "      <th>1</th>\n",
              "      <td>58 The Glen, Bracklone, Portarlington, Co. Lao...</td>\n",
              "      <td>2022-01-28</td>\n",
              "      <td>225000.0</td>\n",
              "      <td>3.0</td>\n",
              "      <td>2.0</td>\n",
              "      <td>Semi-D</td>\n",
              "      <td>93.0</td>\n",
              "      <td>-7.180640</td>\n",
              "      <td>53.156985</td>\n",
              "      <td>6</td>\n",
              "      <td>738183</td>\n",
              "      <td>2022</td>\n",
              "    </tr>\n",
              "    <tr>\n",
              "      <th>2</th>\n",
              "      <td>16 Dodderbrook Ave., Oldcourt, Dublin, D24 E2Y...</td>\n",
              "      <td>2022-01-27</td>\n",
              "      <td>575000.0</td>\n",
              "      <td>4.0</td>\n",
              "      <td>3.0</td>\n",
              "      <td>Semi-D</td>\n",
              "      <td>162.0</td>\n",
              "      <td>-6.342353</td>\n",
              "      <td>53.269333</td>\n",
              "      <td>6</td>\n",
              "      <td>738182</td>\n",
              "      <td>2022</td>\n",
              "    </tr>\n",
              "    <tr>\n",
              "      <th>4</th>\n",
              "      <td>5 St Columbas Terrace, Kilballivor, Ballivor, ...</td>\n",
              "      <td>2022-01-28</td>\n",
              "      <td>120000.0</td>\n",
              "      <td>3.0</td>\n",
              "      <td>1.0</td>\n",
              "      <td>Terrace</td>\n",
              "      <td>68.0</td>\n",
              "      <td>-6.964963</td>\n",
              "      <td>53.531063</td>\n",
              "      <td>9</td>\n",
              "      <td>738183</td>\n",
              "      <td>2022</td>\n",
              "    </tr>\n",
              "    <tr>\n",
              "      <th>5</th>\n",
              "      <td>75 The Lawn, Coolroe Meadows, Ballincollig, Co...</td>\n",
              "      <td>2022-01-30</td>\n",
              "      <td>400000.0</td>\n",
              "      <td>4.0</td>\n",
              "      <td>3.0</td>\n",
              "      <td>Semi-D</td>\n",
              "      <td>113.0</td>\n",
              "      <td>-8.614790</td>\n",
              "      <td>51.883611</td>\n",
              "      <td>6</td>\n",
              "      <td>738185</td>\n",
              "      <td>2022</td>\n",
              "    </tr>\n",
              "  </tbody>\n",
              "</table>\n",
              "</div>\n",
              "      <button class=\"colab-df-convert\" onclick=\"convertToInteractive('df-f2b3f798-7a5f-4b8a-8bbc-0b420953faaa')\"\n",
              "              title=\"Convert this dataframe to an interactive table.\"\n",
              "              style=\"display:none;\">\n",
              "        \n",
              "  <svg xmlns=\"http://www.w3.org/2000/svg\" height=\"24px\"viewBox=\"0 0 24 24\"\n",
              "       width=\"24px\">\n",
              "    <path d=\"M0 0h24v24H0V0z\" fill=\"none\"/>\n",
              "    <path d=\"M18.56 5.44l.94 2.06.94-2.06 2.06-.94-2.06-.94-.94-2.06-.94 2.06-2.06.94zm-11 1L8.5 8.5l.94-2.06 2.06-.94-2.06-.94L8.5 2.5l-.94 2.06-2.06.94zm10 10l.94 2.06.94-2.06 2.06-.94-2.06-.94-.94-2.06-.94 2.06-2.06.94z\"/><path d=\"M17.41 7.96l-1.37-1.37c-.4-.4-.92-.59-1.43-.59-.52 0-1.04.2-1.43.59L10.3 9.45l-7.72 7.72c-.78.78-.78 2.05 0 2.83L4 21.41c.39.39.9.59 1.41.59.51 0 1.02-.2 1.41-.59l7.78-7.78 2.81-2.81c.8-.78.8-2.07 0-2.86zM5.41 20L4 18.59l7.72-7.72 1.47 1.35L5.41 20z\"/>\n",
              "  </svg>\n",
              "      </button>\n",
              "      \n",
              "  <style>\n",
              "    .colab-df-container {\n",
              "      display:flex;\n",
              "      flex-wrap:wrap;\n",
              "      gap: 12px;\n",
              "    }\n",
              "\n",
              "    .colab-df-convert {\n",
              "      background-color: #E8F0FE;\n",
              "      border: none;\n",
              "      border-radius: 50%;\n",
              "      cursor: pointer;\n",
              "      display: none;\n",
              "      fill: #1967D2;\n",
              "      height: 32px;\n",
              "      padding: 0 0 0 0;\n",
              "      width: 32px;\n",
              "    }\n",
              "\n",
              "    .colab-df-convert:hover {\n",
              "      background-color: #E2EBFA;\n",
              "      box-shadow: 0px 1px 2px rgba(60, 64, 67, 0.3), 0px 1px 3px 1px rgba(60, 64, 67, 0.15);\n",
              "      fill: #174EA6;\n",
              "    }\n",
              "\n",
              "    [theme=dark] .colab-df-convert {\n",
              "      background-color: #3B4455;\n",
              "      fill: #D2E3FC;\n",
              "    }\n",
              "\n",
              "    [theme=dark] .colab-df-convert:hover {\n",
              "      background-color: #434B5C;\n",
              "      box-shadow: 0px 1px 3px 1px rgba(0, 0, 0, 0.15);\n",
              "      filter: drop-shadow(0px 1px 2px rgba(0, 0, 0, 0.3));\n",
              "      fill: #FFFFFF;\n",
              "    }\n",
              "  </style>\n",
              "\n",
              "      <script>\n",
              "        const buttonEl =\n",
              "          document.querySelector('#df-f2b3f798-7a5f-4b8a-8bbc-0b420953faaa button.colab-df-convert');\n",
              "        buttonEl.style.display =\n",
              "          google.colab.kernel.accessAllowed ? 'block' : 'none';\n",
              "\n",
              "        async function convertToInteractive(key) {\n",
              "          const element = document.querySelector('#df-f2b3f798-7a5f-4b8a-8bbc-0b420953faaa');\n",
              "          const dataTable =\n",
              "            await google.colab.kernel.invokeFunction('convertToInteractive',\n",
              "                                                     [key], {});\n",
              "          if (!dataTable) return;\n",
              "\n",
              "          const docLinkHtml = 'Like what you see? Visit the ' +\n",
              "            '<a target=\"_blank\" href=https://colab.research.google.com/notebooks/data_table.ipynb>data table notebook</a>'\n",
              "            + ' to learn more about interactive tables.';\n",
              "          element.innerHTML = '';\n",
              "          dataTable['output_type'] = 'display_data';\n",
              "          await google.colab.output.renderOutput(dataTable, element);\n",
              "          const docLink = document.createElement('div');\n",
              "          docLink.innerHTML = docLinkHtml;\n",
              "          element.appendChild(docLink);\n",
              "        }\n",
              "      </script>\n",
              "    </div>\n",
              "  </div>\n",
              "  "
            ]
          },
          "metadata": {},
          "execution_count": 181
        }
      ]
    },
    {
      "cell_type": "markdown",
      "source": [
        "At the beginning of our analysis, we commented that some of the column names were unclear about what they represent or the name is not in a standard we will need later to use our model."
      ],
      "metadata": {
        "id": "htr4P1mKSm1s"
      }
    },
    {
      "cell_type": "code",
      "source": [
        "rename_columns = {'ADDRESS': 'address', 'price': 'sale_price', 'numBedrooms': 'bedrooms', 'numBathrooms': 'bathrooms', 'propertySize': 'property_size', 'encoded_propertyType': 'property_type'}\n",
        "df.rename(columns=rename_columns, inplace=True)\n",
        "df.columns"
      ],
      "metadata": {
        "colab": {
          "base_uri": "https://localhost:8080/"
        },
        "id": "TyJji8E1-Jrr",
        "outputId": "7e0bcada-cf67-4587-fafd-1f72da27dc1d"
      },
      "execution_count": 182,
      "outputs": [
        {
          "output_type": "execute_result",
          "data": {
            "text/plain": [
              "Index(['address', 'publishDate', 'sale_price', 'bedrooms', 'bathrooms',\n",
              "       'propertyType', 'property_size', 'longitude', 'latitude',\n",
              "       'property_type', 'ordinal_date', 'year'],\n",
              "      dtype='object')"
            ]
          },
          "metadata": {},
          "execution_count": 182
        }
      ]
    },
    {
      "cell_type": "markdown",
      "source": [
        "We will not need any categorical data to train the model from this point on. We can remove the columns publish date and property type."
      ],
      "metadata": {
        "id": "UF6ixM0kTt1U"
      }
    },
    {
      "cell_type": "code",
      "source": [
        "df.drop(['publishDate', 'propertyType'], axis=1, inplace=True)\n",
        "df.columns"
      ],
      "metadata": {
        "colab": {
          "base_uri": "https://localhost:8080/"
        },
        "id": "e1NVcBHt-K7j",
        "outputId": "460de718-f249-437e-bdfc-6bf88408a8e6"
      },
      "execution_count": 183,
      "outputs": [
        {
          "output_type": "execute_result",
          "data": {
            "text/plain": [
              "Index(['address', 'sale_price', 'bedrooms', 'bathrooms', 'property_size',\n",
              "       'longitude', 'latitude', 'property_type', 'ordinal_date', 'year'],\n",
              "      dtype='object')"
            ]
          },
          "metadata": {},
          "execution_count": 183
        }
      ]
    },
    {
      "cell_type": "markdown",
      "source": [
        "For our project, we decided to train a model to predict and estimate prices for properties in Dublin. That being said, we do not need data from anywhere else."
      ],
      "metadata": {
        "id": "8Ic1w0OMUrvb"
      }
    },
    {
      "cell_type": "code",
      "source": [
        "dublin = df[df['address'].str.contains('Dublin')]\n",
        "dublin.head()"
      ],
      "metadata": {
        "id": "uqVZdT9o-L8U",
        "colab": {
          "base_uri": "https://localhost:8080/",
          "height": 206
        },
        "outputId": "2ffe5790-7970-4add-a042-c4daec7bad53"
      },
      "execution_count": 184,
      "outputs": [
        {
          "output_type": "execute_result",
          "data": {
            "text/plain": [
              "                                              address  sale_price  bedrooms  \\\n",
              "2   16 Dodderbrook Ave., Oldcourt, Dublin, D24 E2Y...    575000.0       4.0   \n",
              "10  Apartment 27, The Oaks, River Rd, Pelletstown ...    320000.0       2.0   \n",
              "12  The Haven, 1 Cherryfield Walk, Hartstown, Dubl...    275000.0       2.0   \n",
              "14  1a, Sacre Coeur, 11 Cedarwood Green, Ballymun,...    490000.0       3.0   \n",
              "15  Seamount Rd, Seamount Dr, Malahide, Co. Dublin...    625000.0       3.0   \n",
              "\n",
              "    bathrooms  property_size  longitude   latitude  property_type  \\\n",
              "2         3.0          162.0  -6.342353  53.269333              6   \n",
              "10        2.0           70.0  -6.323467  53.377174              0   \n",
              "12        1.0           58.0  -6.421760  53.395524              6   \n",
              "14        3.0          108.0  -6.283468  53.396182              2   \n",
              "15        3.0           95.0  -6.148709  53.443758              9   \n",
              "\n",
              "    ordinal_date  year  \n",
              "2         738182  2022  \n",
              "10        738181  2022  \n",
              "12        738183  2022  \n",
              "14        738185  2022  \n",
              "15        738166  2022  "
            ],
            "text/html": [
              "\n",
              "  <div id=\"df-b6c5fe0d-4583-477b-a28f-f4150f2b007e\">\n",
              "    <div class=\"colab-df-container\">\n",
              "      <div>\n",
              "<style scoped>\n",
              "    .dataframe tbody tr th:only-of-type {\n",
              "        vertical-align: middle;\n",
              "    }\n",
              "\n",
              "    .dataframe tbody tr th {\n",
              "        vertical-align: top;\n",
              "    }\n",
              "\n",
              "    .dataframe thead th {\n",
              "        text-align: right;\n",
              "    }\n",
              "</style>\n",
              "<table border=\"1\" class=\"dataframe\">\n",
              "  <thead>\n",
              "    <tr style=\"text-align: right;\">\n",
              "      <th></th>\n",
              "      <th>address</th>\n",
              "      <th>sale_price</th>\n",
              "      <th>bedrooms</th>\n",
              "      <th>bathrooms</th>\n",
              "      <th>property_size</th>\n",
              "      <th>longitude</th>\n",
              "      <th>latitude</th>\n",
              "      <th>property_type</th>\n",
              "      <th>ordinal_date</th>\n",
              "      <th>year</th>\n",
              "    </tr>\n",
              "  </thead>\n",
              "  <tbody>\n",
              "    <tr>\n",
              "      <th>2</th>\n",
              "      <td>16 Dodderbrook Ave., Oldcourt, Dublin, D24 E2Y...</td>\n",
              "      <td>575000.0</td>\n",
              "      <td>4.0</td>\n",
              "      <td>3.0</td>\n",
              "      <td>162.0</td>\n",
              "      <td>-6.342353</td>\n",
              "      <td>53.269333</td>\n",
              "      <td>6</td>\n",
              "      <td>738182</td>\n",
              "      <td>2022</td>\n",
              "    </tr>\n",
              "    <tr>\n",
              "      <th>10</th>\n",
              "      <td>Apartment 27, The Oaks, River Rd, Pelletstown ...</td>\n",
              "      <td>320000.0</td>\n",
              "      <td>2.0</td>\n",
              "      <td>2.0</td>\n",
              "      <td>70.0</td>\n",
              "      <td>-6.323467</td>\n",
              "      <td>53.377174</td>\n",
              "      <td>0</td>\n",
              "      <td>738181</td>\n",
              "      <td>2022</td>\n",
              "    </tr>\n",
              "    <tr>\n",
              "      <th>12</th>\n",
              "      <td>The Haven, 1 Cherryfield Walk, Hartstown, Dubl...</td>\n",
              "      <td>275000.0</td>\n",
              "      <td>2.0</td>\n",
              "      <td>1.0</td>\n",
              "      <td>58.0</td>\n",
              "      <td>-6.421760</td>\n",
              "      <td>53.395524</td>\n",
              "      <td>6</td>\n",
              "      <td>738183</td>\n",
              "      <td>2022</td>\n",
              "    </tr>\n",
              "    <tr>\n",
              "      <th>14</th>\n",
              "      <td>1a, Sacre Coeur, 11 Cedarwood Green, Ballymun,...</td>\n",
              "      <td>490000.0</td>\n",
              "      <td>3.0</td>\n",
              "      <td>3.0</td>\n",
              "      <td>108.0</td>\n",
              "      <td>-6.283468</td>\n",
              "      <td>53.396182</td>\n",
              "      <td>2</td>\n",
              "      <td>738185</td>\n",
              "      <td>2022</td>\n",
              "    </tr>\n",
              "    <tr>\n",
              "      <th>15</th>\n",
              "      <td>Seamount Rd, Seamount Dr, Malahide, Co. Dublin...</td>\n",
              "      <td>625000.0</td>\n",
              "      <td>3.0</td>\n",
              "      <td>3.0</td>\n",
              "      <td>95.0</td>\n",
              "      <td>-6.148709</td>\n",
              "      <td>53.443758</td>\n",
              "      <td>9</td>\n",
              "      <td>738166</td>\n",
              "      <td>2022</td>\n",
              "    </tr>\n",
              "  </tbody>\n",
              "</table>\n",
              "</div>\n",
              "      <button class=\"colab-df-convert\" onclick=\"convertToInteractive('df-b6c5fe0d-4583-477b-a28f-f4150f2b007e')\"\n",
              "              title=\"Convert this dataframe to an interactive table.\"\n",
              "              style=\"display:none;\">\n",
              "        \n",
              "  <svg xmlns=\"http://www.w3.org/2000/svg\" height=\"24px\"viewBox=\"0 0 24 24\"\n",
              "       width=\"24px\">\n",
              "    <path d=\"M0 0h24v24H0V0z\" fill=\"none\"/>\n",
              "    <path d=\"M18.56 5.44l.94 2.06.94-2.06 2.06-.94-2.06-.94-.94-2.06-.94 2.06-2.06.94zm-11 1L8.5 8.5l.94-2.06 2.06-.94-2.06-.94L8.5 2.5l-.94 2.06-2.06.94zm10 10l.94 2.06.94-2.06 2.06-.94-2.06-.94-.94-2.06-.94 2.06-2.06.94z\"/><path d=\"M17.41 7.96l-1.37-1.37c-.4-.4-.92-.59-1.43-.59-.52 0-1.04.2-1.43.59L10.3 9.45l-7.72 7.72c-.78.78-.78 2.05 0 2.83L4 21.41c.39.39.9.59 1.41.59.51 0 1.02-.2 1.41-.59l7.78-7.78 2.81-2.81c.8-.78.8-2.07 0-2.86zM5.41 20L4 18.59l7.72-7.72 1.47 1.35L5.41 20z\"/>\n",
              "  </svg>\n",
              "      </button>\n",
              "      \n",
              "  <style>\n",
              "    .colab-df-container {\n",
              "      display:flex;\n",
              "      flex-wrap:wrap;\n",
              "      gap: 12px;\n",
              "    }\n",
              "\n",
              "    .colab-df-convert {\n",
              "      background-color: #E8F0FE;\n",
              "      border: none;\n",
              "      border-radius: 50%;\n",
              "      cursor: pointer;\n",
              "      display: none;\n",
              "      fill: #1967D2;\n",
              "      height: 32px;\n",
              "      padding: 0 0 0 0;\n",
              "      width: 32px;\n",
              "    }\n",
              "\n",
              "    .colab-df-convert:hover {\n",
              "      background-color: #E2EBFA;\n",
              "      box-shadow: 0px 1px 2px rgba(60, 64, 67, 0.3), 0px 1px 3px 1px rgba(60, 64, 67, 0.15);\n",
              "      fill: #174EA6;\n",
              "    }\n",
              "\n",
              "    [theme=dark] .colab-df-convert {\n",
              "      background-color: #3B4455;\n",
              "      fill: #D2E3FC;\n",
              "    }\n",
              "\n",
              "    [theme=dark] .colab-df-convert:hover {\n",
              "      background-color: #434B5C;\n",
              "      box-shadow: 0px 1px 3px 1px rgba(0, 0, 0, 0.15);\n",
              "      filter: drop-shadow(0px 1px 2px rgba(0, 0, 0, 0.3));\n",
              "      fill: #FFFFFF;\n",
              "    }\n",
              "  </style>\n",
              "\n",
              "      <script>\n",
              "        const buttonEl =\n",
              "          document.querySelector('#df-b6c5fe0d-4583-477b-a28f-f4150f2b007e button.colab-df-convert');\n",
              "        buttonEl.style.display =\n",
              "          google.colab.kernel.accessAllowed ? 'block' : 'none';\n",
              "\n",
              "        async function convertToInteractive(key) {\n",
              "          const element = document.querySelector('#df-b6c5fe0d-4583-477b-a28f-f4150f2b007e');\n",
              "          const dataTable =\n",
              "            await google.colab.kernel.invokeFunction('convertToInteractive',\n",
              "                                                     [key], {});\n",
              "          if (!dataTable) return;\n",
              "\n",
              "          const docLinkHtml = 'Like what you see? Visit the ' +\n",
              "            '<a target=\"_blank\" href=https://colab.research.google.com/notebooks/data_table.ipynb>data table notebook</a>'\n",
              "            + ' to learn more about interactive tables.';\n",
              "          element.innerHTML = '';\n",
              "          dataTable['output_type'] = 'display_data';\n",
              "          await google.colab.output.renderOutput(dataTable, element);\n",
              "          const docLink = document.createElement('div');\n",
              "          docLink.innerHTML = docLinkHtml;\n",
              "          element.appendChild(docLink);\n",
              "        }\n",
              "      </script>\n",
              "    </div>\n",
              "  </div>\n",
              "  "
            ]
          },
          "metadata": {},
          "execution_count": 184
        }
      ]
    },
    {
      "cell_type": "markdown",
      "source": [
        "Once we have a new data frame with only records from Dublin, we can filter and keep only numerical data for the model."
      ],
      "metadata": {
        "id": "kNfTZWzTWVVd"
      }
    },
    {
      "cell_type": "code",
      "source": [
        "keep_columns = ['sale_price', 'bedrooms', 'bathrooms', 'property_size', 'longitude', 'latitude', 'property_type', 'year']\n",
        "dublin.loc[:,keep_columns]"
      ],
      "metadata": {
        "colab": {
          "base_uri": "https://localhost:8080/",
          "height": 424
        },
        "id": "E5RaJmsm-N_1",
        "outputId": "a7048939-a774-4809-c8a1-04cfdd8a94a3"
      },
      "execution_count": 185,
      "outputs": [
        {
          "output_type": "execute_result",
          "data": {
            "text/plain": [
              "      sale_price  bedrooms  bathrooms  property_size  longitude   latitude  \\\n",
              "2       575000.0       4.0        3.0          162.0  -6.342353  53.269333   \n",
              "10      320000.0       2.0        2.0           70.0  -6.323467  53.377174   \n",
              "12      275000.0       2.0        1.0           58.0  -6.421760  53.395524   \n",
              "14      490000.0       3.0        3.0          108.0  -6.283468  53.396182   \n",
              "15      625000.0       3.0        3.0           95.0  -6.148709  53.443758   \n",
              "...          ...       ...        ...            ...        ...        ...   \n",
              "3931    290000.0       1.0        1.0           50.0  -6.197595  53.451655   \n",
              "3935    625000.0       3.0        2.0          107.0  -6.230495  53.282570   \n",
              "3948    425000.0       2.0        1.0           57.0  -6.233015  53.340641   \n",
              "3949    425000.0       2.0        1.0           52.0  -6.225967  53.339888   \n",
              "3955    260000.0       1.0        1.0           38.0  -6.255506  53.363496   \n",
              "\n",
              "      property_type  year  \n",
              "2                 6  2022  \n",
              "10                0  2022  \n",
              "12                6  2022  \n",
              "14                2  2022  \n",
              "15                9  2022  \n",
              "...             ...   ...  \n",
              "3931              0  2021  \n",
              "3935              6  2021  \n",
              "3948              9  2022  \n",
              "3949              9  2022  \n",
              "3955              0  2022  \n",
              "\n",
              "[1227 rows x 8 columns]"
            ],
            "text/html": [
              "\n",
              "  <div id=\"df-5a7c3f28-99c0-4b5d-92dd-9f11a3a5f1e8\">\n",
              "    <div class=\"colab-df-container\">\n",
              "      <div>\n",
              "<style scoped>\n",
              "    .dataframe tbody tr th:only-of-type {\n",
              "        vertical-align: middle;\n",
              "    }\n",
              "\n",
              "    .dataframe tbody tr th {\n",
              "        vertical-align: top;\n",
              "    }\n",
              "\n",
              "    .dataframe thead th {\n",
              "        text-align: right;\n",
              "    }\n",
              "</style>\n",
              "<table border=\"1\" class=\"dataframe\">\n",
              "  <thead>\n",
              "    <tr style=\"text-align: right;\">\n",
              "      <th></th>\n",
              "      <th>sale_price</th>\n",
              "      <th>bedrooms</th>\n",
              "      <th>bathrooms</th>\n",
              "      <th>property_size</th>\n",
              "      <th>longitude</th>\n",
              "      <th>latitude</th>\n",
              "      <th>property_type</th>\n",
              "      <th>year</th>\n",
              "    </tr>\n",
              "  </thead>\n",
              "  <tbody>\n",
              "    <tr>\n",
              "      <th>2</th>\n",
              "      <td>575000.0</td>\n",
              "      <td>4.0</td>\n",
              "      <td>3.0</td>\n",
              "      <td>162.0</td>\n",
              "      <td>-6.342353</td>\n",
              "      <td>53.269333</td>\n",
              "      <td>6</td>\n",
              "      <td>2022</td>\n",
              "    </tr>\n",
              "    <tr>\n",
              "      <th>10</th>\n",
              "      <td>320000.0</td>\n",
              "      <td>2.0</td>\n",
              "      <td>2.0</td>\n",
              "      <td>70.0</td>\n",
              "      <td>-6.323467</td>\n",
              "      <td>53.377174</td>\n",
              "      <td>0</td>\n",
              "      <td>2022</td>\n",
              "    </tr>\n",
              "    <tr>\n",
              "      <th>12</th>\n",
              "      <td>275000.0</td>\n",
              "      <td>2.0</td>\n",
              "      <td>1.0</td>\n",
              "      <td>58.0</td>\n",
              "      <td>-6.421760</td>\n",
              "      <td>53.395524</td>\n",
              "      <td>6</td>\n",
              "      <td>2022</td>\n",
              "    </tr>\n",
              "    <tr>\n",
              "      <th>14</th>\n",
              "      <td>490000.0</td>\n",
              "      <td>3.0</td>\n",
              "      <td>3.0</td>\n",
              "      <td>108.0</td>\n",
              "      <td>-6.283468</td>\n",
              "      <td>53.396182</td>\n",
              "      <td>2</td>\n",
              "      <td>2022</td>\n",
              "    </tr>\n",
              "    <tr>\n",
              "      <th>15</th>\n",
              "      <td>625000.0</td>\n",
              "      <td>3.0</td>\n",
              "      <td>3.0</td>\n",
              "      <td>95.0</td>\n",
              "      <td>-6.148709</td>\n",
              "      <td>53.443758</td>\n",
              "      <td>9</td>\n",
              "      <td>2022</td>\n",
              "    </tr>\n",
              "    <tr>\n",
              "      <th>...</th>\n",
              "      <td>...</td>\n",
              "      <td>...</td>\n",
              "      <td>...</td>\n",
              "      <td>...</td>\n",
              "      <td>...</td>\n",
              "      <td>...</td>\n",
              "      <td>...</td>\n",
              "      <td>...</td>\n",
              "    </tr>\n",
              "    <tr>\n",
              "      <th>3931</th>\n",
              "      <td>290000.0</td>\n",
              "      <td>1.0</td>\n",
              "      <td>1.0</td>\n",
              "      <td>50.0</td>\n",
              "      <td>-6.197595</td>\n",
              "      <td>53.451655</td>\n",
              "      <td>0</td>\n",
              "      <td>2021</td>\n",
              "    </tr>\n",
              "    <tr>\n",
              "      <th>3935</th>\n",
              "      <td>625000.0</td>\n",
              "      <td>3.0</td>\n",
              "      <td>2.0</td>\n",
              "      <td>107.0</td>\n",
              "      <td>-6.230495</td>\n",
              "      <td>53.282570</td>\n",
              "      <td>6</td>\n",
              "      <td>2021</td>\n",
              "    </tr>\n",
              "    <tr>\n",
              "      <th>3948</th>\n",
              "      <td>425000.0</td>\n",
              "      <td>2.0</td>\n",
              "      <td>1.0</td>\n",
              "      <td>57.0</td>\n",
              "      <td>-6.233015</td>\n",
              "      <td>53.340641</td>\n",
              "      <td>9</td>\n",
              "      <td>2022</td>\n",
              "    </tr>\n",
              "    <tr>\n",
              "      <th>3949</th>\n",
              "      <td>425000.0</td>\n",
              "      <td>2.0</td>\n",
              "      <td>1.0</td>\n",
              "      <td>52.0</td>\n",
              "      <td>-6.225967</td>\n",
              "      <td>53.339888</td>\n",
              "      <td>9</td>\n",
              "      <td>2022</td>\n",
              "    </tr>\n",
              "    <tr>\n",
              "      <th>3955</th>\n",
              "      <td>260000.0</td>\n",
              "      <td>1.0</td>\n",
              "      <td>1.0</td>\n",
              "      <td>38.0</td>\n",
              "      <td>-6.255506</td>\n",
              "      <td>53.363496</td>\n",
              "      <td>0</td>\n",
              "      <td>2022</td>\n",
              "    </tr>\n",
              "  </tbody>\n",
              "</table>\n",
              "<p>1227 rows × 8 columns</p>\n",
              "</div>\n",
              "      <button class=\"colab-df-convert\" onclick=\"convertToInteractive('df-5a7c3f28-99c0-4b5d-92dd-9f11a3a5f1e8')\"\n",
              "              title=\"Convert this dataframe to an interactive table.\"\n",
              "              style=\"display:none;\">\n",
              "        \n",
              "  <svg xmlns=\"http://www.w3.org/2000/svg\" height=\"24px\"viewBox=\"0 0 24 24\"\n",
              "       width=\"24px\">\n",
              "    <path d=\"M0 0h24v24H0V0z\" fill=\"none\"/>\n",
              "    <path d=\"M18.56 5.44l.94 2.06.94-2.06 2.06-.94-2.06-.94-.94-2.06-.94 2.06-2.06.94zm-11 1L8.5 8.5l.94-2.06 2.06-.94-2.06-.94L8.5 2.5l-.94 2.06-2.06.94zm10 10l.94 2.06.94-2.06 2.06-.94-2.06-.94-.94-2.06-.94 2.06-2.06.94z\"/><path d=\"M17.41 7.96l-1.37-1.37c-.4-.4-.92-.59-1.43-.59-.52 0-1.04.2-1.43.59L10.3 9.45l-7.72 7.72c-.78.78-.78 2.05 0 2.83L4 21.41c.39.39.9.59 1.41.59.51 0 1.02-.2 1.41-.59l7.78-7.78 2.81-2.81c.8-.78.8-2.07 0-2.86zM5.41 20L4 18.59l7.72-7.72 1.47 1.35L5.41 20z\"/>\n",
              "  </svg>\n",
              "      </button>\n",
              "      \n",
              "  <style>\n",
              "    .colab-df-container {\n",
              "      display:flex;\n",
              "      flex-wrap:wrap;\n",
              "      gap: 12px;\n",
              "    }\n",
              "\n",
              "    .colab-df-convert {\n",
              "      background-color: #E8F0FE;\n",
              "      border: none;\n",
              "      border-radius: 50%;\n",
              "      cursor: pointer;\n",
              "      display: none;\n",
              "      fill: #1967D2;\n",
              "      height: 32px;\n",
              "      padding: 0 0 0 0;\n",
              "      width: 32px;\n",
              "    }\n",
              "\n",
              "    .colab-df-convert:hover {\n",
              "      background-color: #E2EBFA;\n",
              "      box-shadow: 0px 1px 2px rgba(60, 64, 67, 0.3), 0px 1px 3px 1px rgba(60, 64, 67, 0.15);\n",
              "      fill: #174EA6;\n",
              "    }\n",
              "\n",
              "    [theme=dark] .colab-df-convert {\n",
              "      background-color: #3B4455;\n",
              "      fill: #D2E3FC;\n",
              "    }\n",
              "\n",
              "    [theme=dark] .colab-df-convert:hover {\n",
              "      background-color: #434B5C;\n",
              "      box-shadow: 0px 1px 3px 1px rgba(0, 0, 0, 0.15);\n",
              "      filter: drop-shadow(0px 1px 2px rgba(0, 0, 0, 0.3));\n",
              "      fill: #FFFFFF;\n",
              "    }\n",
              "  </style>\n",
              "\n",
              "      <script>\n",
              "        const buttonEl =\n",
              "          document.querySelector('#df-5a7c3f28-99c0-4b5d-92dd-9f11a3a5f1e8 button.colab-df-convert');\n",
              "        buttonEl.style.display =\n",
              "          google.colab.kernel.accessAllowed ? 'block' : 'none';\n",
              "\n",
              "        async function convertToInteractive(key) {\n",
              "          const element = document.querySelector('#df-5a7c3f28-99c0-4b5d-92dd-9f11a3a5f1e8');\n",
              "          const dataTable =\n",
              "            await google.colab.kernel.invokeFunction('convertToInteractive',\n",
              "                                                     [key], {});\n",
              "          if (!dataTable) return;\n",
              "\n",
              "          const docLinkHtml = 'Like what you see? Visit the ' +\n",
              "            '<a target=\"_blank\" href=https://colab.research.google.com/notebooks/data_table.ipynb>data table notebook</a>'\n",
              "            + ' to learn more about interactive tables.';\n",
              "          element.innerHTML = '';\n",
              "          dataTable['output_type'] = 'display_data';\n",
              "          await google.colab.output.renderOutput(dataTable, element);\n",
              "          const docLink = document.createElement('div');\n",
              "          docLink.innerHTML = docLinkHtml;\n",
              "          element.appendChild(docLink);\n",
              "        }\n",
              "      </script>\n",
              "    </div>\n",
              "  </div>\n",
              "  "
            ]
          },
          "metadata": {},
          "execution_count": 185
        }
      ]
    },
    {
      "cell_type": "markdown",
      "source": [
        "Linear Regression is sensitive to high values; normalising them gives a significant advantage in improving precision. See below a process to rescale the data for between 0 and 1."
      ],
      "metadata": {
        "id": "HjvhedaSXrbp"
      }
    },
    {
      "cell_type": "code",
      "source": [
        "dfmmn = dublin.loc[:,keep_columns].copy()\n",
        "column_names = dfmmn.columns\n",
        "\n",
        "x = dfmmn.values\n",
        "min_max_scaler = MinMaxScaler()\n",
        "x_scaled = min_max_scaler.fit_transform(x)\n",
        "dfmmn = pd.DataFrame(x_scaled)\n",
        "dfmmn.columns = column_names\n",
        "dfmmn.head()"
      ],
      "metadata": {
        "colab": {
          "base_uri": "https://localhost:8080/",
          "height": 206
        },
        "id": "Jtu_xcKJ-QEi",
        "outputId": "a4aa36c7-d551-4a74-bab1-9f66b6b3e447"
      },
      "execution_count": 186,
      "outputs": [
        {
          "output_type": "execute_result",
          "data": {
            "text/plain": [
              "   sale_price  bedrooms  bathrooms  property_size  longitude  latitude  \\\n",
              "0    0.102857  0.428571   0.285714       0.016247   0.905483  0.648738   \n",
              "1    0.044571  0.142857   0.142857       0.004837   0.911868  0.700569   \n",
              "2    0.034286  0.142857   0.000000       0.003349   0.878633  0.709389   \n",
              "3    0.083429  0.285714   0.285714       0.009550   0.925393  0.709705   \n",
              "4    0.114286  0.285714   0.285714       0.007937   0.970958  0.732571   \n",
              "\n",
              "   property_type  year  \n",
              "0            0.6   1.0  \n",
              "1            0.0   1.0  \n",
              "2            0.6   1.0  \n",
              "3            0.2   1.0  \n",
              "4            0.9   1.0  "
            ],
            "text/html": [
              "\n",
              "  <div id=\"df-75860611-3f59-416e-89f2-dc7773278e2c\">\n",
              "    <div class=\"colab-df-container\">\n",
              "      <div>\n",
              "<style scoped>\n",
              "    .dataframe tbody tr th:only-of-type {\n",
              "        vertical-align: middle;\n",
              "    }\n",
              "\n",
              "    .dataframe tbody tr th {\n",
              "        vertical-align: top;\n",
              "    }\n",
              "\n",
              "    .dataframe thead th {\n",
              "        text-align: right;\n",
              "    }\n",
              "</style>\n",
              "<table border=\"1\" class=\"dataframe\">\n",
              "  <thead>\n",
              "    <tr style=\"text-align: right;\">\n",
              "      <th></th>\n",
              "      <th>sale_price</th>\n",
              "      <th>bedrooms</th>\n",
              "      <th>bathrooms</th>\n",
              "      <th>property_size</th>\n",
              "      <th>longitude</th>\n",
              "      <th>latitude</th>\n",
              "      <th>property_type</th>\n",
              "      <th>year</th>\n",
              "    </tr>\n",
              "  </thead>\n",
              "  <tbody>\n",
              "    <tr>\n",
              "      <th>0</th>\n",
              "      <td>0.102857</td>\n",
              "      <td>0.428571</td>\n",
              "      <td>0.285714</td>\n",
              "      <td>0.016247</td>\n",
              "      <td>0.905483</td>\n",
              "      <td>0.648738</td>\n",
              "      <td>0.6</td>\n",
              "      <td>1.0</td>\n",
              "    </tr>\n",
              "    <tr>\n",
              "      <th>1</th>\n",
              "      <td>0.044571</td>\n",
              "      <td>0.142857</td>\n",
              "      <td>0.142857</td>\n",
              "      <td>0.004837</td>\n",
              "      <td>0.911868</td>\n",
              "      <td>0.700569</td>\n",
              "      <td>0.0</td>\n",
              "      <td>1.0</td>\n",
              "    </tr>\n",
              "    <tr>\n",
              "      <th>2</th>\n",
              "      <td>0.034286</td>\n",
              "      <td>0.142857</td>\n",
              "      <td>0.000000</td>\n",
              "      <td>0.003349</td>\n",
              "      <td>0.878633</td>\n",
              "      <td>0.709389</td>\n",
              "      <td>0.6</td>\n",
              "      <td>1.0</td>\n",
              "    </tr>\n",
              "    <tr>\n",
              "      <th>3</th>\n",
              "      <td>0.083429</td>\n",
              "      <td>0.285714</td>\n",
              "      <td>0.285714</td>\n",
              "      <td>0.009550</td>\n",
              "      <td>0.925393</td>\n",
              "      <td>0.709705</td>\n",
              "      <td>0.2</td>\n",
              "      <td>1.0</td>\n",
              "    </tr>\n",
              "    <tr>\n",
              "      <th>4</th>\n",
              "      <td>0.114286</td>\n",
              "      <td>0.285714</td>\n",
              "      <td>0.285714</td>\n",
              "      <td>0.007937</td>\n",
              "      <td>0.970958</td>\n",
              "      <td>0.732571</td>\n",
              "      <td>0.9</td>\n",
              "      <td>1.0</td>\n",
              "    </tr>\n",
              "  </tbody>\n",
              "</table>\n",
              "</div>\n",
              "      <button class=\"colab-df-convert\" onclick=\"convertToInteractive('df-75860611-3f59-416e-89f2-dc7773278e2c')\"\n",
              "              title=\"Convert this dataframe to an interactive table.\"\n",
              "              style=\"display:none;\">\n",
              "        \n",
              "  <svg xmlns=\"http://www.w3.org/2000/svg\" height=\"24px\"viewBox=\"0 0 24 24\"\n",
              "       width=\"24px\">\n",
              "    <path d=\"M0 0h24v24H0V0z\" fill=\"none\"/>\n",
              "    <path d=\"M18.56 5.44l.94 2.06.94-2.06 2.06-.94-2.06-.94-.94-2.06-.94 2.06-2.06.94zm-11 1L8.5 8.5l.94-2.06 2.06-.94-2.06-.94L8.5 2.5l-.94 2.06-2.06.94zm10 10l.94 2.06.94-2.06 2.06-.94-2.06-.94-.94-2.06-.94 2.06-2.06.94z\"/><path d=\"M17.41 7.96l-1.37-1.37c-.4-.4-.92-.59-1.43-.59-.52 0-1.04.2-1.43.59L10.3 9.45l-7.72 7.72c-.78.78-.78 2.05 0 2.83L4 21.41c.39.39.9.59 1.41.59.51 0 1.02-.2 1.41-.59l7.78-7.78 2.81-2.81c.8-.78.8-2.07 0-2.86zM5.41 20L4 18.59l7.72-7.72 1.47 1.35L5.41 20z\"/>\n",
              "  </svg>\n",
              "      </button>\n",
              "      \n",
              "  <style>\n",
              "    .colab-df-container {\n",
              "      display:flex;\n",
              "      flex-wrap:wrap;\n",
              "      gap: 12px;\n",
              "    }\n",
              "\n",
              "    .colab-df-convert {\n",
              "      background-color: #E8F0FE;\n",
              "      border: none;\n",
              "      border-radius: 50%;\n",
              "      cursor: pointer;\n",
              "      display: none;\n",
              "      fill: #1967D2;\n",
              "      height: 32px;\n",
              "      padding: 0 0 0 0;\n",
              "      width: 32px;\n",
              "    }\n",
              "\n",
              "    .colab-df-convert:hover {\n",
              "      background-color: #E2EBFA;\n",
              "      box-shadow: 0px 1px 2px rgba(60, 64, 67, 0.3), 0px 1px 3px 1px rgba(60, 64, 67, 0.15);\n",
              "      fill: #174EA6;\n",
              "    }\n",
              "\n",
              "    [theme=dark] .colab-df-convert {\n",
              "      background-color: #3B4455;\n",
              "      fill: #D2E3FC;\n",
              "    }\n",
              "\n",
              "    [theme=dark] .colab-df-convert:hover {\n",
              "      background-color: #434B5C;\n",
              "      box-shadow: 0px 1px 3px 1px rgba(0, 0, 0, 0.15);\n",
              "      filter: drop-shadow(0px 1px 2px rgba(0, 0, 0, 0.3));\n",
              "      fill: #FFFFFF;\n",
              "    }\n",
              "  </style>\n",
              "\n",
              "      <script>\n",
              "        const buttonEl =\n",
              "          document.querySelector('#df-75860611-3f59-416e-89f2-dc7773278e2c button.colab-df-convert');\n",
              "        buttonEl.style.display =\n",
              "          google.colab.kernel.accessAllowed ? 'block' : 'none';\n",
              "\n",
              "        async function convertToInteractive(key) {\n",
              "          const element = document.querySelector('#df-75860611-3f59-416e-89f2-dc7773278e2c');\n",
              "          const dataTable =\n",
              "            await google.colab.kernel.invokeFunction('convertToInteractive',\n",
              "                                                     [key], {});\n",
              "          if (!dataTable) return;\n",
              "\n",
              "          const docLinkHtml = 'Like what you see? Visit the ' +\n",
              "            '<a target=\"_blank\" href=https://colab.research.google.com/notebooks/data_table.ipynb>data table notebook</a>'\n",
              "            + ' to learn more about interactive tables.';\n",
              "          element.innerHTML = '';\n",
              "          dataTable['output_type'] = 'display_data';\n",
              "          await google.colab.output.renderOutput(dataTable, element);\n",
              "          const docLink = document.createElement('div');\n",
              "          docLink.innerHTML = docLinkHtml;\n",
              "          element.appendChild(docLink);\n",
              "        }\n",
              "      </script>\n",
              "    </div>\n",
              "  </div>\n",
              "  "
            ]
          },
          "metadata": {},
          "execution_count": 186
        }
      ]
    },
    {
      "cell_type": "markdown",
      "source": [
        "We can plot all attributes on the same scale with the data normalised."
      ],
      "metadata": {
        "id": "1qJ_LjS__kcJ"
      }
    },
    {
      "cell_type": "code",
      "source": [
        "plt.figure(figsize=(10,10))\n",
        "sns.boxplot(data=dfmmn)\n",
        "plt.show()"
      ],
      "metadata": {
        "colab": {
          "base_uri": "https://localhost:8080/",
          "height": 592
        },
        "id": "lVFYQDt0-VVa",
        "outputId": "9d41d10b-0b1c-4960-d7c7-db5d1fcaeb14"
      },
      "execution_count": 187,
      "outputs": [
        {
          "output_type": "display_data",
          "data": {
            "text/plain": [
              "<Figure size 720x720 with 1 Axes>"
            ],
            "image/png": "[encoded data removed]"
          },
          "metadata": {
            "needs_background": "light"
          }
        }
      ]
    },
    {
      "cell_type": "markdown",
      "source": [
        "A simple scatter plot give us an idea how spread low and high prices are."
      ],
      "metadata": {
        "id": "E2QDz5o7CDDx"
      }
    },
    {
      "cell_type": "code",
      "source": [
        "dfmmn.plot(kind='scatter', x='longitude', y='latitude', alpha=0.4, label='Sales Price',\n",
        "figsize=(12, 8), c='sale_price', cmap=plt.get_cmap('jet'), colorbar=True)\n",
        "plt.legend()\n",
        "plt.show()"
      ],
      "metadata": {
        "colab": {
          "base_uri": "https://localhost:8080/",
          "height": 476
        },
        "id": "L4QQISGVJ_EX",
        "outputId": "6729db3d-8076-45a4-ee20-7595bd69ccd1"
      },
      "execution_count": 188,
      "outputs": [
        {
          "output_type": "display_data",
          "data": {
            "text/plain": [
              "<Figure size 864x576 with 2 Axes>"
            ],
            "image/png": "[encoded data removed]"
          },
          "metadata": {
            "needs_background": "light"
          }
        }
      ]
    },
    {
      "cell_type": "markdown",
      "source": [
        "# Machine Learning"
      ],
      "metadata": {
        "id": "7O97qrXsHfzF"
      }
    },
    {
      "cell_type": "markdown",
      "source": [
        "## Training Model"
      ],
      "metadata": {
        "id": "Idb1mg3HjjSl"
      }
    },
    {
      "cell_type": "code",
      "source": [
        "from sklearn.linear_model import LinearRegression\n",
        "from sklearn.ensemble import RandomForestRegressor\n",
        "from sklearn.neighbors import KNeighborsRegressor\n",
        "from sklearn.model_selection import GridSearchCV\n",
        "from xgboost import XGBRegressor\n",
        "from sklearn import ensemble\n",
        "from sklearn.metrics import mean_squared_error\n",
        "from sklearn.model_selection import cross_val_score\n",
        "from sklearn.model_selection import train_test_split\n",
        "from sklearn.model_selection import KFold\n",
        "from sklearn import metrics\n",
        "from sklearn.metrics import r2_score"
      ],
      "metadata": {
        "id": "0EUNF5UmjzKV"
      },
      "execution_count": 189,
      "outputs": []
    },
    {
      "cell_type": "markdown",
      "source": [
        "Before we start training our model it is important to define the predictors and who is the label (target). The predictors are the attributes that we expect to influence the prediction that is our label."
      ],
      "metadata": {
        "id": "iG90-nvHIGTA"
      }
    },
    {
      "cell_type": "code",
      "source": [
        "predictors = ['bedrooms', 'bathrooms', 'property_size', 'longitude', 'latitude', 'property_type', 'year']\n",
        "label = 'sale_price'"
      ],
      "metadata": {
        "id": "7AB1weRJjlsd"
      },
      "execution_count": 190,
      "outputs": []
    },
    {
      "cell_type": "markdown",
      "source": [
        ""
      ],
      "metadata": {
        "id": "JbILcqWAYAFO"
      }
    },
    {
      "cell_type": "code",
      "source": [
        "X_train, X_test, y_train, y_test = train_test_split(dublin[predictors], dublin[label], test_size=0.13, random_state=0)\n",
        "Xy_test = pd.concat([X_test, y_test], axis=1)"
      ],
      "metadata": {
        "id": "IsUJtRsdQeSt"
      },
      "execution_count": 191,
      "outputs": []
    },
    {
      "cell_type": "markdown",
      "source": [
        "### Linear Regression"
      ],
      "metadata": {
        "id": "HyfJQ0GjMcZW"
      }
    },
    {
      "cell_type": "markdown",
      "source": [
        "The first model we will use is the Linear Regression. It is not the best model; however, linear regression is relatively fast and easy to implement."
      ],
      "metadata": {
        "id": "Y3RIgNwaIn1z"
      }
    },
    {
      "cell_type": "code",
      "source": [
        "plm = LinearRegression()\n",
        "\n",
        "plm.fit(X_train, y_train)\n",
        "\n",
        "y_pred = plm.predict(X_test)\n",
        "#accuracy = plm.score(X_test, y_test)\n",
        "\n",
        "r2_score_plm = r2_score(y_test, y_pred)\n",
        "print(\"r2 Test score:\", r2_score_plm)\n",
        "\n",
        "testRMSE_plm = np.sqrt(mean_squared_error(y_true=y_test, y_pred=y_pred))\n",
        "print(\"Test RMSE:\", testRMSE_plm)\n",
        "\n",
        "kfold = KFold(n_splits=10, shuffle=True)\n",
        "kf_cv_scores_plm = cross_val_score(plm, X_train, y_train, cv=kfold ).mean()\n",
        "print(\"K-fold CV average score: %.2f\" % kf_cv_scores_plm)"
      ],
      "metadata": {
        "colab": {
          "base_uri": "https://localhost:8080/"
        },
        "id": "-o22wozAI1Mf",
        "outputId": "f0219765-56ab-46ca-8ad9-414217b502a7"
      },
      "execution_count": 192,
      "outputs": [
        {
          "output_type": "stream",
          "name": "stdout",
          "text": [
            "r2 Test score: 0.4316972979846405\n",
            "Test RMSE: 170280.3744157157\n",
            "K-fold CV average score: -0.87\n"
          ]
        }
      ]
    },
    {
      "cell_type": "markdown",
      "source": [
        "### K-Neighbor Regressor"
      ],
      "metadata": {
        "id": "fq7nAKT2Mocf"
      }
    },
    {
      "cell_type": "code",
      "source": [
        "knn_model = KNeighborsRegressor()\n",
        "\n",
        "param_grid = {'n_neighbors':np.arange(5, 500, 5)}\n",
        "gsModelTrain = GridSearchCV(estimator = knn_model, param_grid = param_grid, cv=2)\n",
        "gsModelTrain.fit(X_train, y_train)\n",
        "knn_model.set_params(**gsModelTrain.best_params_)\n",
        "\n",
        "knn_model.fit(X_train, y_train)\n",
        "\n",
        "y_pred = knn_model.predict(X_test)\n",
        "\n",
        "r2_score_knn = r2_score(y_test, y_pred)\n",
        "print(\"r2 Test score:\", r2_score_knn)\n",
        "\n",
        "testRMSE_knn = np.sqrt(mean_squared_error(y_true=y_test, y_pred=y_pred))\n",
        "print(\"Test RMSE:\", testRMSE_knn)\n",
        "\n",
        "kfold = KFold(n_splits=10, shuffle=True)\n",
        "kf_cv_scores_knn = cross_val_score(knn_model, X_train, y_train, cv=kfold ).mean()\n",
        "print(\"K-fold CV average score: %.2f\" % kf_cv_scores_knn)"
      ],
      "metadata": {
        "colab": {
          "base_uri": "https://localhost:8080/"
        },
        "id": "Cu-ylzi2Mv_n",
        "outputId": "f508c699-db31-4645-d8b7-577e8e5f7e9b"
      },
      "execution_count": 193,
      "outputs": [
        {
          "output_type": "stream",
          "name": "stdout",
          "text": [
            "r2 Test score: 0.17017365513455585\n",
            "Test RMSE: 205763.50314125422\n",
            "K-fold CV average score: 0.36\n"
          ]
        }
      ]
    },
    {
      "cell_type": "markdown",
      "source": [
        "### Gradient Boosting Regressor"
      ],
      "metadata": {
        "id": "gaF7CZWdNkJe"
      }
    },
    {
      "cell_type": "code",
      "source": [
        "clf = ensemble.GradientBoostingRegressor(n_estimators=2000, learning_rate=0.01, max_depth=1, random_state=1)\n",
        "\n",
        "clf.fit(X_train, y_train)\n",
        "\n",
        "y_pred = clf.predict(X_test)\n",
        "# print(\"Score: \", clf.score(X_test, y_test))\n",
        "\n",
        "r2_score_clf = r2_score(y_test, y_pred)\n",
        "print(\"r2 Test score:\", r2_score_clf)\n",
        "\n",
        "testRMSE_clf = np.sqrt(mean_squared_error(y_true=y_test, y_pred=y_pred))\n",
        "print(\"Test RMSE:\", testRMSE_clf)\n",
        "\n",
        "kfold = KFold(n_splits=10, shuffle=True)\n",
        "kf_cv_scores_clf = cross_val_score(clf, X_train, y_train, cv=kfold ).mean()\n",
        "print(\"K-fold CV average score: %.2f\" % kf_cv_scores_clf)"
      ],
      "metadata": {
        "colab": {
          "base_uri": "https://localhost:8080/"
        },
        "id": "TLnGEiLTNrz2",
        "outputId": "4da5ee02-c2df-4f10-ff2c-e2f8b10bd9c1"
      },
      "execution_count": 194,
      "outputs": [
        {
          "output_type": "stream",
          "name": "stdout",
          "text": [
            "r2 Test score: 0.5582987016109744\n",
            "Test RMSE: 150120.17911610054\n",
            "K-fold CV average score: 0.56\n"
          ]
        }
      ]
    },
    {
      "cell_type": "markdown",
      "source": [
        "### XGB Regressor"
      ],
      "metadata": {
        "id": "BQimKW-UOOwP"
      }
    },
    {
      "cell_type": "code",
      "source": [
        "xgb = XGBRegressor(n_estimators=1000, learning_rate=0.01, max_depth=1, random_state=1)\n",
        "\n",
        "xgb.fit(X_train, y_train)\n",
        "\n",
        "y_pred = xgb.predict(X_test)\n",
        "# print(\"\\nScore: \", xgb.score(X_test, y_test))\n",
        "\n",
        "r2_score_xgb = r2_score(y_test, y_pred)\n",
        "\n",
        "kfold = KFold(n_splits=10, shuffle=True)\n",
        "kf_cv_scores_xgb = cross_val_score(xgb, X_train, y_train, cv=kfold ).mean()\n",
        "\n",
        "testRMSE_xgb = np.sqrt(mean_squared_error(y_true=y_test, y_pred=y_pred))\n",
        "\n",
        "print(\"r2 Test score:\", r2_score_xgb)\n",
        "print(\"Test RMSE:\", testRMSE_xgb)\n",
        "print(\"K-fold CV average score: %.2f\" % kf_cv_scores_xgb)"
      ],
      "metadata": {
        "colab": {
          "base_uri": "https://localhost:8080/"
        },
        "id": "SM0dTDMcOTBC",
        "outputId": "6d95d035-ea62-43b0-8151-7baaac955686"
      },
      "execution_count": 195,
      "outputs": [
        {
          "output_type": "stream",
          "name": "stdout",
          "text": [
            "[11:34:35] WARNING: /workspace/src/objective/regression_obj.cu:152: reg:linear is now deprecated in favor of reg:squarederror.\n",
            "[11:34:36] WARNING: /workspace/src/objective/regression_obj.cu:152: reg:linear is now deprecated in favor of reg:squarederror.\n",
            "[11:34:36] WARNING: /workspace/src/objective/regression_obj.cu:152: reg:linear is now deprecated in favor of reg:squarederror.\n",
            "[11:34:36] WARNING: /workspace/src/objective/regression_obj.cu:152: reg:linear is now deprecated in favor of reg:squarederror.\n",
            "[11:34:36] WARNING: /workspace/src/objective/regression_obj.cu:152: reg:linear is now deprecated in favor of reg:squarederror.\n",
            "[11:34:37] WARNING: /workspace/src/objective/regression_obj.cu:152: reg:linear is now deprecated in favor of reg:squarederror.\n",
            "[11:34:37] WARNING: /workspace/src/objective/regression_obj.cu:152: reg:linear is now deprecated in favor of reg:squarederror.\n",
            "[11:34:37] WARNING: /workspace/src/objective/regression_obj.cu:152: reg:linear is now deprecated in favor of reg:squarederror.\n",
            "[11:34:37] WARNING: /workspace/src/objective/regression_obj.cu:152: reg:linear is now deprecated in favor of reg:squarederror.\n",
            "[11:34:38] WARNING: /workspace/src/objective/regression_obj.cu:152: reg:linear is now deprecated in favor of reg:squarederror.\n",
            "[11:34:38] WARNING: /workspace/src/objective/regression_obj.cu:152: reg:linear is now deprecated in favor of reg:squarederror.\n",
            "r2 Test score: 0.5476488909651709\n",
            "Test RMSE: 151919.16534560212\n",
            "K-fold CV average score: 0.59\n"
          ]
        }
      ]
    },
    {
      "cell_type": "markdown",
      "source": [
        "### Random Forest Regressor"
      ],
      "metadata": {
        "id": "jwCfId06MfUI"
      }
    },
    {
      "cell_type": "markdown",
      "source": [
        "Our second model is a Random Forest Regressor, which has better accuracy and should be the one for the project."
      ],
      "metadata": {
        "id": "Hz19yfxtLe2s"
      }
    },
    {
      "cell_type": "code",
      "source": [
        "rfr = RandomForestRegressor(n_estimators=2000, max_depth=6, random_state=1, oob_score=True)\n",
        "\n",
        "rfr.fit(X_train, y_train)\n",
        "y_pred = rfr.predict(X_test)\n",
        "\n",
        "# print(\"Score: \", rfr.score(X_test, y_test))\n",
        "\n",
        "r2_score_rfr = r2_score(y_test, y_pred)\n",
        "print(\"r2 Test score:\", r2_score_rfr)\n",
        "\n",
        "testRMSE_rfr = np.sqrt(mean_squared_error(y_true=y_test, y_pred=y_pred))\n",
        "print(\"Test RMSE:\", testRMSE_rfr)\n",
        "\n",
        "kfold = KFold(n_splits=10, shuffle=True)\n",
        "kf_cv_scores_rfr = cross_val_score(rfr, X_train, y_train, cv=kfold ).mean()\n",
        "print(\"K-fold CV average score: %.2f\" % kf_cv_scores_rfr)"
      ],
      "metadata": {
        "colab": {
          "base_uri": "https://localhost:8080/"
        },
        "id": "lXaqxeCfkcDF",
        "outputId": "0b13138a-de1f-4859-fe7a-bba6ac2139b2"
      },
      "execution_count": 196,
      "outputs": [
        {
          "output_type": "stream",
          "name": "stdout",
          "text": [
            "r2 Test score: 0.6435030220355173\n",
            "Test RMSE: 134866.05757255954\n",
            "K-fold CV average score: 0.64\n"
          ]
        }
      ]
    },
    {
      "cell_type": "code",
      "source": [
        "model_results = pd.DataFrame({\n",
        "    \"Model Name\": [\"Linear Regression\", \"K-Neighbors Regressor\", \"Gradient Boosting Regressor\", \"XGB Regressor\", \"Random Forest Regressor\"],\n",
        "    \"R2 Score\": [r2_score_plm, r2_score_knn, r2_score_clf, r2_score_xgb, r2_score_rfr],\n",
        "    \"RMSE\": [testRMSE_plm, testRMSE_knn, testRMSE_clf, testRMSE_xgb, testRMSE_rfr],\n",
        "    \"KFold Score\": [kf_cv_scores_plm, kf_cv_scores_knn, kf_cv_scores_clf, kf_cv_scores_xgb, kf_cv_scores_rfr]\n",
        "})\n",
        "\n",
        "model_results"
      ],
      "metadata": {
        "colab": {
          "base_uri": "https://localhost:8080/",
          "height": 206
        },
        "id": "84bQ_qz5UQQz",
        "outputId": "34072ad7-dd59-4480-9201-598e921a83fa"
      },
      "execution_count": 197,
      "outputs": [
        {
          "output_type": "execute_result",
          "data": {
            "text/plain": [
              "                    Model Name  R2 Score           RMSE  KFold Score\n",
              "0            Linear Regression  0.431697  170280.374416    -0.867167\n",
              "1        K-Neighbors Regressor  0.170174  205763.503141     0.360612\n",
              "2  Gradient Boosting Regressor  0.558299  150120.179116     0.562092\n",
              "3                XGB Regressor  0.547649  151919.165346     0.587185\n",
              "4      Random Forest Regressor  0.643503  134866.057573     0.643437"
            ],
            "text/html": [
              "\n",
              "  <div id=\"df-973b3eda-8b8c-4ea1-822a-0d95a3fb1ae3\">\n",
              "    <div class=\"colab-df-container\">\n",
              "      <div>\n",
              "<style scoped>\n",
              "    .dataframe tbody tr th:only-of-type {\n",
              "        vertical-align: middle;\n",
              "    }\n",
              "\n",
              "    .dataframe tbody tr th {\n",
              "        vertical-align: top;\n",
              "    }\n",
              "\n",
              "    .dataframe thead th {\n",
              "        text-align: right;\n",
              "    }\n",
              "</style>\n",
              "<table border=\"1\" class=\"dataframe\">\n",
              "  <thead>\n",
              "    <tr style=\"text-align: right;\">\n",
              "      <th></th>\n",
              "      <th>Model Name</th>\n",
              "      <th>R2 Score</th>\n",
              "      <th>RMSE</th>\n",
              "      <th>KFold Score</th>\n",
              "    </tr>\n",
              "  </thead>\n",
              "  <tbody>\n",
              "    <tr>\n",
              "      <th>0</th>\n",
              "      <td>Linear Regression</td>\n",
              "      <td>0.431697</td>\n",
              "      <td>170280.374416</td>\n",
              "      <td>-0.867167</td>\n",
              "    </tr>\n",
              "    <tr>\n",
              "      <th>1</th>\n",
              "      <td>K-Neighbors Regressor</td>\n",
              "      <td>0.170174</td>\n",
              "      <td>205763.503141</td>\n",
              "      <td>0.360612</td>\n",
              "    </tr>\n",
              "    <tr>\n",
              "      <th>2</th>\n",
              "      <td>Gradient Boosting Regressor</td>\n",
              "      <td>0.558299</td>\n",
              "      <td>150120.179116</td>\n",
              "      <td>0.562092</td>\n",
              "    </tr>\n",
              "    <tr>\n",
              "      <th>3</th>\n",
              "      <td>XGB Regressor</td>\n",
              "      <td>0.547649</td>\n",
              "      <td>151919.165346</td>\n",
              "      <td>0.587185</td>\n",
              "    </tr>\n",
              "    <tr>\n",
              "      <th>4</th>\n",
              "      <td>Random Forest Regressor</td>\n",
              "      <td>0.643503</td>\n",
              "      <td>134866.057573</td>\n",
              "      <td>0.643437</td>\n",
              "    </tr>\n",
              "  </tbody>\n",
              "</table>\n",
              "</div>\n",
              "      <button class=\"colab-df-convert\" onclick=\"convertToInteractive('df-973b3eda-8b8c-4ea1-822a-0d95a3fb1ae3')\"\n",
              "              title=\"Convert this dataframe to an interactive table.\"\n",
              "              style=\"display:none;\">\n",
              "        \n",
              "  <svg xmlns=\"http://www.w3.org/2000/svg\" height=\"24px\"viewBox=\"0 0 24 24\"\n",
              "       width=\"24px\">\n",
              "    <path d=\"M0 0h24v24H0V0z\" fill=\"none\"/>\n",
              "    <path d=\"M18.56 5.44l.94 2.06.94-2.06 2.06-.94-2.06-.94-.94-2.06-.94 2.06-2.06.94zm-11 1L8.5 8.5l.94-2.06 2.06-.94-2.06-.94L8.5 2.5l-.94 2.06-2.06.94zm10 10l.94 2.06.94-2.06 2.06-.94-2.06-.94-.94-2.06-.94 2.06-2.06.94z\"/><path d=\"M17.41 7.96l-1.37-1.37c-.4-.4-.92-.59-1.43-.59-.52 0-1.04.2-1.43.59L10.3 9.45l-7.72 7.72c-.78.78-.78 2.05 0 2.83L4 21.41c.39.39.9.59 1.41.59.51 0 1.02-.2 1.41-.59l7.78-7.78 2.81-2.81c.8-.78.8-2.07 0-2.86zM5.41 20L4 18.59l7.72-7.72 1.47 1.35L5.41 20z\"/>\n",
              "  </svg>\n",
              "      </button>\n",
              "      \n",
              "  <style>\n",
              "    .colab-df-container {\n",
              "      display:flex;\n",
              "      flex-wrap:wrap;\n",
              "      gap: 12px;\n",
              "    }\n",
              "\n",
              "    .colab-df-convert {\n",
              "      background-color: #E8F0FE;\n",
              "      border: none;\n",
              "      border-radius: 50%;\n",
              "      cursor: pointer;\n",
              "      display: none;\n",
              "      fill: #1967D2;\n",
              "      height: 32px;\n",
              "      padding: 0 0 0 0;\n",
              "      width: 32px;\n",
              "    }\n",
              "\n",
              "    .colab-df-convert:hover {\n",
              "      background-color: #E2EBFA;\n",
              "      box-shadow: 0px 1px 2px rgba(60, 64, 67, 0.3), 0px 1px 3px 1px rgba(60, 64, 67, 0.15);\n",
              "      fill: #174EA6;\n",
              "    }\n",
              "\n",
              "    [theme=dark] .colab-df-convert {\n",
              "      background-color: #3B4455;\n",
              "      fill: #D2E3FC;\n",
              "    }\n",
              "\n",
              "    [theme=dark] .colab-df-convert:hover {\n",
              "      background-color: #434B5C;\n",
              "      box-shadow: 0px 1px 3px 1px rgba(0, 0, 0, 0.15);\n",
              "      filter: drop-shadow(0px 1px 2px rgba(0, 0, 0, 0.3));\n",
              "      fill: #FFFFFF;\n",
              "    }\n",
              "  </style>\n",
              "\n",
              "      <script>\n",
              "        const buttonEl =\n",
              "          document.querySelector('#df-973b3eda-8b8c-4ea1-822a-0d95a3fb1ae3 button.colab-df-convert');\n",
              "        buttonEl.style.display =\n",
              "          google.colab.kernel.accessAllowed ? 'block' : 'none';\n",
              "\n",
              "        async function convertToInteractive(key) {\n",
              "          const element = document.querySelector('#df-973b3eda-8b8c-4ea1-822a-0d95a3fb1ae3');\n",
              "          const dataTable =\n",
              "            await google.colab.kernel.invokeFunction('convertToInteractive',\n",
              "                                                     [key], {});\n",
              "          if (!dataTable) return;\n",
              "\n",
              "          const docLinkHtml = 'Like what you see? Visit the ' +\n",
              "            '<a target=\"_blank\" href=https://colab.research.google.com/notebooks/data_table.ipynb>data table notebook</a>'\n",
              "            + ' to learn more about interactive tables.';\n",
              "          element.innerHTML = '';\n",
              "          dataTable['output_type'] = 'display_data';\n",
              "          await google.colab.output.renderOutput(dataTable, element);\n",
              "          const docLink = document.createElement('div');\n",
              "          docLink.innerHTML = docLinkHtml;\n",
              "          element.appendChild(docLink);\n",
              "        }\n",
              "      </script>\n",
              "    </div>\n",
              "  </div>\n",
              "  "
            ]
          },
          "metadata": {},
          "execution_count": 197
        }
      ]
    }
  ]
}