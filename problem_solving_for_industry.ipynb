{
  "nbformat": 4,
  "nbformat_minor": 0,
  "metadata": {
    "colab": {
      "name": "problem_solving_for_industry.ipynb",
      "provenance": [],
      "authorship_tag": "ABX9TyOR41IY+mEjWEcwe071MVPy",
      "include_colab_link": true
    },
    "kernelspec": {
      "name": "python3",
      "display_name": "Python 3"
    },
    "language_info": {
      "name": "python"
    }
  },
  "cells": [
    {
      "cell_type": "markdown",
      "metadata": {
        "id": "view-in-github",
        "colab_type": "text"
      },
      "source": [
        "<a href=\"https://colab.research.google.com/github/raulFuzita/cct-4-year/blob/psi-final-project/problem_solving_for_industry.ipynb\" target=\"_parent\"><img src=\"https://colab.research.google.com/assets/colab-badge.svg\" alt=\"Open In Colab\"/></a>"
      ]
    },
    {
      "cell_type": "markdown",
      "source": [
        "# Problem Solving for Industry"
      ],
      "metadata": {
        "id": "czVmEVB5aVwc"
      }
    },
    {
      "cell_type": "markdown",
      "source": [
        "Lecturer: Dr. Muhammad Iqbal\n",
        "\n",
        "Students Information\n",
        "\n",
        "David \n",
        "\n",
        "Luiz\n",
        "\n",
        "Raul Macedo Fuzita - 2018337"
      ],
      "metadata": {
        "id": "4US-PG0QaZ10"
      }
    },
    {
      "cell_type": "code",
      "execution_count": null,
      "metadata": {
        "id": "QtGfk7xVaCtK"
      },
      "outputs": [],
      "source": [
        ""
      ]
    }
  ]
}